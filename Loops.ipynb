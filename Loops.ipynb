{
 "cells": [
  {
   "cell_type": "markdown",
   "metadata": {},
   "source": [
    "# Loops"
   ]
  },
  {
   "cell_type": "markdown",
   "metadata": {},
   "source": [
    "#### count_nones\n",
    "\n",
    "Write a function \"count_nones\" that\n",
    "takes as input a list of any type of element\n",
    "and returns a count of how many of those\n",
    "elements are None types.\n",
    "\n",
    "Is this a map, filter, or reduce?"
   ]
  },
  {
   "cell_type": "markdown",
   "metadata": {},
   "source": [
    "###### Solution:"
   ]
  },
  {
   "cell_type": "code",
   "execution_count": 155,
   "metadata": {},
   "outputs": [],
   "source": [
    "temp = None"
   ]
  },
  {
   "cell_type": "code",
   "execution_count": 158,
   "metadata": {},
   "outputs": [
    {
     "data": {
      "text/plain": [
       "True"
      ]
     },
     "execution_count": 158,
     "metadata": {},
     "output_type": "execute_result"
    }
   ],
   "source": [
    "temp is None"
   ]
  },
  {
   "cell_type": "code",
   "execution_count": 161,
   "metadata": {},
   "outputs": [],
   "source": [
    "temp = 0\n",
    "for elem in [None,None,None,2,3]:\n",
    "    if elem is None:\n",
    "        temp+=1"
   ]
  },
  {
   "cell_type": "code",
   "execution_count": 162,
   "metadata": {},
   "outputs": [
    {
     "data": {
      "text/plain": [
       "3"
      ]
     },
     "execution_count": 162,
     "metadata": {},
     "output_type": "execute_result"
    }
   ],
   "source": [
    "temp"
   ]
  },
  {
   "cell_type": "code",
   "execution_count": 146,
   "metadata": {},
   "outputs": [],
   "source": [
    "def count_nones(x):\n",
    "    temp = 0\n",
    "    for elem in x:\n",
    "        if elem is None:\n",
    "            temp+=1\n",
    "            \n",
    "    return temp"
   ]
  },
  {
   "cell_type": "code",
   "execution_count": 163,
   "metadata": {},
   "outputs": [
    {
     "data": {
      "text/plain": [
       "4"
      ]
     },
     "execution_count": 163,
     "metadata": {},
     "output_type": "execute_result"
    }
   ],
   "source": [
    "count_nones([None,1,2,3,None,None,None])"
   ]
  },
  {
   "cell_type": "markdown",
   "metadata": {},
   "source": [
    "This is a *reduce*."
   ]
  },
  {
   "cell_type": "markdown",
   "metadata": {},
   "source": [
    "----"
   ]
  },
  {
   "cell_type": "markdown",
   "metadata": {},
   "source": [
    "#### n_highest_number\n",
    "Write a function \"n_highest_number\"\n",
    "with two parameters: \n",
    "1. a list of numbers\n",
    "2. an integer\n",
    "\n",
    "\"n_highest_number\" should return the nth \n",
    "highest number in the list, where n is the \n",
    "second parameter of the function. \n",
    "\n",
    "Assume\n",
    "that the numbers will be unique (no duplicates).\n",
    "Also assume that n <= the number of elements \n",
    "in the list.\n",
    "\n",
    "NOTE: Only use the operations and functions\n",
    "we have learned so far! No cheating!\n",
    "\n",
    "HINT: Can you reuse anything from the previous\n",
    "exercise? That may or may not work, depending\n",
    "on how you implemented it. \n",
    "\n",
    "HINT HINT: use the function \"range\"!"
   ]
  },
  {
   "cell_type": "markdown",
   "metadata": {},
   "source": [
    "###### Solution:"
   ]
  },
  {
   "cell_type": "markdown",
   "metadata": {},
   "source": [
    "Sketch:\n",
    "\n",
    "1. Figure out: find minimum from any list\n",
    "2. Once minimum is found from the biggest list \n",
    "3. Add the minimum to the new sorted list\n",
    "4. Remove the minimum to the old unsorted list\n",
    "5. Repeat until unsorted list is empty"
   ]
  },
  {
   "cell_type": "markdown",
   "metadata": {},
   "source": [
    "1. Find the minimum value for lists that starts from index 0, 1, 2, 3, ..."
   ]
  },
  {
   "cell_type": "code",
   "execution_count": 173,
   "metadata": {},
   "outputs": [
    {
     "data": {
      "text/plain": [
       "[0, 1, 2, 3, 4, 5, 6, 7, 8, 9]"
      ]
     },
     "execution_count": 173,
     "metadata": {},
     "output_type": "execute_result"
    }
   ],
   "source": [
    "list(range(10))"
   ]
  },
  {
   "cell_type": "code",
   "execution_count": 174,
   "metadata": {},
   "outputs": [
    {
     "name": "stdout",
     "output_type": "stream",
     "text": [
      "0\n",
      "1\n",
      "2\n",
      "3\n",
      "4\n",
      "5\n",
      "6\n",
      "7\n",
      "8\n",
      "9\n"
     ]
    }
   ],
   "source": [
    "for j in range(10):\n",
    "    print(j)"
   ]
  },
  {
   "cell_type": "code",
   "execution_count": null,
   "metadata": {},
   "outputs": [],
   "source": [
    "unsorted_list = [5,2,0,8,7,6]"
   ]
  },
  {
   "cell_type": "code",
   "execution_count": 178,
   "metadata": {},
   "outputs": [
    {
     "name": "stdout",
     "output_type": "stream",
     "text": [
      "[2, 5]\n",
      "[0, 2]\n",
      "[8, 0]\n",
      "[7, 0]\n",
      "[6, 0]\n"
     ]
    }
   ],
   "source": [
    "temp_min = unsorted_list[0]\n",
    "for j in range(+,len(unsorted_list)): \n",
    "    print([unsorted_list[j],temp_min])\n",
    "    if unsorted_list[j] < temp_min:\n",
    "        temp_min = unsorted_list[j]    \n"
   ]
  },
  {
   "cell_type": "markdown",
   "metadata": {},
   "source": [
    "Check whether the above code is right by starting the list at any position"
   ]
  },
  {
   "cell_type": "code",
   "execution_count": 181,
   "metadata": {},
   "outputs": [],
   "source": [
    "unsorted_list = [5,2,0,8,7,6]"
   ]
  },
  {
   "cell_type": "code",
   "execution_count": 185,
   "metadata": {},
   "outputs": [
    {
     "name": "stdout",
     "output_type": "stream",
     "text": [
      "[5, 2, 0, 8, 7, 6]\n",
      "[2, 0, 8, 7, 6]\n",
      "[0, 8, 7, 6]\n",
      "[8, 7, 6]\n",
      "[7, 6]\n",
      "[6]\n"
     ]
    }
   ],
   "source": [
    "for i in range(len(unsorted_list)):\n",
    "    print(unsorted_list[i:len(unsorted_list)])"
   ]
  },
  {
   "cell_type": "code",
   "execution_count": 152,
   "metadata": {},
   "outputs": [
    {
     "name": "stdout",
     "output_type": "stream",
     "text": [
      "0\n",
      "0\n",
      "0\n",
      "6\n",
      "6\n",
      "6\n"
     ]
    }
   ],
   "source": [
    "for i in range(len(unsorted_list)):\n",
    "    temp_min = unsorted_list[i]\n",
    "    for j in range(i+1,len(unsorted_list)):\n",
    "        if unsorted_list[j] < temp_min:\n",
    "            temp_min = unsorted_list[j]    \n",
    "    print(temp_min)"
   ]
  },
  {
   "cell_type": "markdown",
   "metadata": {},
   "source": [
    "2. Once found minimum value from the whole list"
   ]
  },
  {
   "cell_type": "markdown",
   "metadata": {},
   "source": [
    "- Add the minimum to the new sorted list"
   ]
  },
  {
   "cell_type": "code",
   "execution_count": 186,
   "metadata": {},
   "outputs": [],
   "source": [
    "sorted_list = []\n",
    "for i in range(len(unsorted_list)):\n",
    "    temp_min = unsorted_list[i]\n",
    "    for j in range(i+1,len(unsorted_list)):\n",
    "        if unsorted_list[j] < temp_min:\n",
    "            temp_min = unsorted_list[j]    \n",
    "    sorted_list.append(temp_min)"
   ]
  },
  {
   "cell_type": "code",
   "execution_count": 187,
   "metadata": {
    "scrolled": true
   },
   "outputs": [
    {
     "data": {
      "text/plain": [
       "[0, 0, 0, 6, 6, 6]"
      ]
     },
     "execution_count": 187,
     "metadata": {},
     "output_type": "execute_result"
    }
   ],
   "source": [
    "sorted_list"
   ]
  },
  {
   "cell_type": "markdown",
   "metadata": {},
   "source": [
    "- Remove the minimum from the unsorted list\n",
    "- Repeat until there is nothing to remove from the unsorted list"
   ]
  },
  {
   "cell_type": "markdown",
   "metadata": {},
   "source": [
    "code sketch\n",
    "\n",
    "while unsorted list is not empty,\n",
    "\n",
    "go through the entire list, and find out which is minimum\n",
    "\n",
    "    for j in range(1,len(unsorted_list)):\n",
    "        if unsorted_list[j] < temp_min:\n",
    "            temp_min = unsorted_list[j] \n",
    "\n",
    "then, once minimum is found\n",
    "1. append the minimum to sorted_list\n",
    "\n",
    "    sorted_list.append(temp_min)\n",
    "    \n",
    "2. remove the miminum from the unsorted_list\n",
    "\n",
    "     unsorted_list.remove(temp_min)\n",
    "\n",
    "repeat this again."
   ]
  },
  {
   "cell_type": "code",
   "execution_count": 107,
   "metadata": {},
   "outputs": [],
   "source": [
    "unsorted_list = [5,2,0,8,7,6]\n",
    "sorted_list = []\n",
    "while len(unsorted_list)>0:\n",
    "    temp_min = unsorted_list[0]\n",
    "    for j in range(1,len(unsorted_list)):\n",
    "        if unsorted_list[j] < temp_min:\n",
    "            temp_min = unsorted_list[j]    \n",
    "    sorted_list.append(temp_min)\n",
    "    unsorted_list.remove(temp_min)"
   ]
  },
  {
   "cell_type": "code",
   "execution_count": 108,
   "metadata": {
    "scrolled": true
   },
   "outputs": [
    {
     "data": {
      "text/plain": [
       "[0, 2, 5, 6, 7, 8]"
      ]
     },
     "execution_count": 108,
     "metadata": {},
     "output_type": "execute_result"
    }
   ],
   "source": [
    "sorted_list"
   ]
  },
  {
   "cell_type": "code",
   "execution_count": 109,
   "metadata": {},
   "outputs": [
    {
     "data": {
      "text/plain": [
       "[]"
      ]
     },
     "execution_count": 109,
     "metadata": {},
     "output_type": "execute_result"
    }
   ],
   "source": [
    "unsorted_list"
   ]
  },
  {
   "cell_type": "markdown",
   "metadata": {},
   "source": [
    "3. Not combine into a function!"
   ]
  },
  {
   "cell_type": "code",
   "execution_count": 191,
   "metadata": {},
   "outputs": [],
   "source": [
    "def n_highest_number(unsorted_list,nth):\n",
    "    sorted_list = []\n",
    "    while len(unsorted_list)>0:\n",
    "        temp_min = unsorted_list[0]\n",
    "        for j in range(0+1,len(unsorted_list)):\n",
    "            if unsorted_list[j] < temp_min:\n",
    "                temp_min = unsorted_list[j]    \n",
    "        sorted_list.append(temp_min)\n",
    "        unsorted_list.remove(temp_min)    \n",
    "        \n",
    "    return sorted_list[len(unsorted_list)-nth]"
   ]
  },
  {
   "cell_type": "code",
   "execution_count": 195,
   "metadata": {},
   "outputs": [
    {
     "data": {
      "text/plain": [
       "5"
      ]
     },
     "execution_count": 195,
     "metadata": {},
     "output_type": "execute_result"
    }
   ],
   "source": [
    "n_highest_number([1,5,8,3],2)"
   ]
  },
  {
   "cell_type": "markdown",
   "metadata": {},
   "source": [
    "----"
   ]
  },
  {
   "cell_type": "markdown",
   "metadata": {},
   "source": [
    "Write a function \"only_adults\" that takes as input a list of numbers and returns only those numbers      >= 18"
   ]
  },
  {
   "cell_type": "code",
   "execution_count": null,
   "metadata": {},
   "outputs": [],
   "source": []
  },
  {
   "cell_type": "markdown",
   "metadata": {},
   "source": [
    "----"
   ]
  },
  {
   "cell_type": "markdown",
   "metadata": {},
   "source": [
    "For these functions, the \"scoreboard\" will be a list of tuples, where each tuple is of the form (str, int) representing (player_name, score)\n",
    "\n",
    "For example: [('kewld00d1', 100), ('pumpkin', 550)]\n",
    "\n",
    "\n",
    "Create a function \"get_scores\" that has one parameter, the scoreboard, and returns a list of the same size with just the scores for each player (a list of ints)"
   ]
  },
  {
   "cell_type": "code",
   "execution_count": 209,
   "metadata": {},
   "outputs": [],
   "source": [
    "scoreboard_test = [('kewld00d1', 100), ('pumpkin', 550),('Assiatu',13)]"
   ]
  },
  {
   "cell_type": "code",
   "execution_count": 206,
   "metadata": {},
   "outputs": [],
   "source": [
    "def get_scores(scoreboard):\n",
    "    score = []\n",
    "    for elem in scoreboard:\n",
    "        score.append(elem[1])\n",
    "    return score"
   ]
  },
  {
   "cell_type": "code",
   "execution_count": 208,
   "metadata": {},
   "outputs": [
    {
     "data": {
      "text/plain": [
       "[100, 550, 13]"
      ]
     },
     "execution_count": 208,
     "metadata": {},
     "output_type": "execute_result"
    }
   ],
   "source": [
    "get_scores(scoreboard_test)"
   ]
  }
 ],
 "metadata": {
  "kernelspec": {
   "display_name": "Python 3",
   "language": "python",
   "name": "python3"
  },
  "language_info": {
   "codemirror_mode": {
    "name": "ipython",
    "version": 3
   },
   "file_extension": ".py",
   "mimetype": "text/x-python",
   "name": "python",
   "nbconvert_exporter": "python",
   "pygments_lexer": "ipython3",
   "version": "3.8.5"
  }
 },
 "nbformat": 4,
 "nbformat_minor": 4
}
