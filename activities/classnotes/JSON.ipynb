{
 "cells": [
  {
   "cell_type": "markdown",
   "metadata": {},
   "source": [
    "# JSON"
   ]
  },
  {
   "cell_type": "code",
   "execution_count": 1,
   "metadata": {},
   "outputs": [],
   "source": [
    "import json"
   ]
  },
  {
   "cell_type": "markdown",
   "metadata": {},
   "source": [
    "#### Convert the following data into JSON format"
   ]
  },
  {
   "cell_type": "code",
   "execution_count": 2,
   "metadata": {},
   "outputs": [],
   "source": [
    "data_tuple = (\"key1\",\"value1\")"
   ]
  },
  {
   "cell_type": "code",
   "execution_count": 6,
   "metadata": {},
   "outputs": [
    {
     "data": {
      "text/plain": [
       "tuple"
      ]
     },
     "execution_count": 6,
     "metadata": {},
     "output_type": "execute_result"
    }
   ],
   "source": [
    "type(data_tuple)"
   ]
  },
  {
   "cell_type": "code",
   "execution_count": 2,
   "metadata": {},
   "outputs": [],
   "source": [
    "data = {\"key1\" : \"value1\", \"key2\" : \"value2\"}"
   ]
  },
  {
   "cell_type": "code",
   "execution_count": 4,
   "metadata": {},
   "outputs": [
    {
     "data": {
      "text/plain": [
       "dict"
      ]
     },
     "execution_count": 4,
     "metadata": {},
     "output_type": "execute_result"
    }
   ],
   "source": [
    "type(data)"
   ]
  },
  {
   "cell_type": "code",
   "execution_count": 7,
   "metadata": {
    "scrolled": true
   },
   "outputs": [
    {
     "name": "stdout",
     "output_type": "stream",
     "text": [
      "{\"key1\": \"value1\", \"key2\": \"value2\"}\n"
     ]
    }
   ],
   "source": [
    "jsonData = json.dumps(data)\n",
    "print(jsonData)"
   ]
  },
  {
   "cell_type": "code",
   "execution_count": 6,
   "metadata": {},
   "outputs": [
    {
     "data": {
      "text/plain": [
       "str"
      ]
     },
     "execution_count": 6,
     "metadata": {},
     "output_type": "execute_result"
    }
   ],
   "source": [
    "type(jsonData)"
   ]
  },
  {
   "cell_type": "code",
   "execution_count": 7,
   "metadata": {},
   "outputs": [
    {
     "name": "stdout",
     "output_type": "stream",
     "text": [
      "{\n",
      "    \"key1\" : \"value1\",\n",
      "    \"key2\" : \"value2\"\n",
      "}\n"
     ]
    }
   ],
   "source": [
    "jsonData = json.dumps(data, indent=4, separators=(\",\", \" : \"))\n",
    "print(jsonData)"
   ]
  },
  {
   "cell_type": "code",
   "execution_count": 8,
   "metadata": {},
   "outputs": [
    {
     "data": {
      "text/plain": [
       "str"
      ]
     },
     "execution_count": 8,
     "metadata": {},
     "output_type": "execute_result"
    }
   ],
   "source": [
    "type(jsonData)"
   ]
  },
  {
   "cell_type": "markdown",
   "metadata": {},
   "source": [
    "#### Convert JSON format into Python"
   ]
  },
  {
   "cell_type": "code",
   "execution_count": 9,
   "metadata": {},
   "outputs": [
    {
     "data": {
      "text/plain": [
       "str"
      ]
     },
     "execution_count": 9,
     "metadata": {},
     "output_type": "execute_result"
    }
   ],
   "source": [
    "x =  \"\"\"{ \"name\":\"Minyoung\", \"age\":30, \"city\":\"Barcelnoa\"}\"\"\"\n",
    "type(x)"
   ]
  },
  {
   "cell_type": "code",
   "execution_count": 10,
   "metadata": {},
   "outputs": [],
   "source": [
    "y = json.loads(x)"
   ]
  },
  {
   "cell_type": "code",
   "execution_count": 11,
   "metadata": {},
   "outputs": [
    {
     "data": {
      "text/plain": [
       "{'name': 'Minyoung', 'age': 30, 'city': 'Barcelnoa'}"
      ]
     },
     "execution_count": 11,
     "metadata": {},
     "output_type": "execute_result"
    }
   ],
   "source": [
    "y"
   ]
  },
  {
   "cell_type": "code",
   "execution_count": 12,
   "metadata": {},
   "outputs": [
    {
     "data": {
      "text/plain": [
       "dict"
      ]
     },
     "execution_count": 12,
     "metadata": {},
     "output_type": "execute_result"
    }
   ],
   "source": [
    "type(y)"
   ]
  },
  {
   "cell_type": "code",
   "execution_count": 11,
   "metadata": {},
   "outputs": [
    {
     "data": {
      "text/plain": [
       "30"
      ]
     },
     "execution_count": 11,
     "metadata": {},
     "output_type": "execute_result"
    }
   ],
   "source": [
    "y[\"age\"]"
   ]
  },
  {
   "cell_type": "code",
   "execution_count": 13,
   "metadata": {},
   "outputs": [
    {
     "data": {
      "text/plain": [
       "'Minyoung'"
      ]
     },
     "execution_count": 13,
     "metadata": {},
     "output_type": "execute_result"
    }
   ],
   "source": [
    "y[\"name\"]"
   ]
  },
  {
   "cell_type": "code",
   "execution_count": 14,
   "metadata": {},
   "outputs": [],
   "source": [
    "sampleJson = \"\"\"{ \n",
    "   \"company\":{ \n",
    "      \"employee\":{ \n",
    "         \"name\":\"emma\",\n",
    "         \"payble\":{ \n",
    "            \"salary\":7000,\n",
    "            \"bonus\":800\n",
    "         }\n",
    "      }\n",
    "   }\n",
    "}\"\"\""
   ]
  },
  {
   "cell_type": "code",
   "execution_count": 15,
   "metadata": {},
   "outputs": [
    {
     "data": {
      "text/plain": [
       "str"
      ]
     },
     "execution_count": 15,
     "metadata": {},
     "output_type": "execute_result"
    }
   ],
   "source": [
    "type(sampleJson)"
   ]
  },
  {
   "cell_type": "code",
   "execution_count": 16,
   "metadata": {},
   "outputs": [
    {
     "name": "stdout",
     "output_type": "stream",
     "text": [
      "{'company': {'employee': {'name': 'emma', 'payble': {'salary': 7000, 'bonus': 800}}}}\n"
     ]
    }
   ],
   "source": [
    "pydat = json.loads(sampleJson)\n",
    "print(pydat)"
   ]
  },
  {
   "cell_type": "code",
   "execution_count": 14,
   "metadata": {},
   "outputs": [
    {
     "data": {
      "text/plain": [
       "dict"
      ]
     },
     "execution_count": 14,
     "metadata": {},
     "output_type": "execute_result"
    }
   ],
   "source": [
    "type(pydat)"
   ]
  },
  {
   "cell_type": "markdown",
   "metadata": {},
   "source": [
    "Write code to print the value of salary"
   ]
  },
  {
   "cell_type": "code",
   "execution_count": 17,
   "metadata": {},
   "outputs": [
    {
     "name": "stdout",
     "output_type": "stream",
     "text": [
      "{'employee': {'name': 'emma', 'payble': {'salary': 7000, 'bonus': 800}}}\n"
     ]
    }
   ],
   "source": [
    "print(pydat['company'])"
   ]
  },
  {
   "cell_type": "code",
   "execution_count": 18,
   "metadata": {},
   "outputs": [
    {
     "name": "stdout",
     "output_type": "stream",
     "text": [
      "{'name': 'emma', 'payble': {'salary': 7000, 'bonus': 800}}\n"
     ]
    }
   ],
   "source": [
    "print(pydat['company']['employee'])"
   ]
  },
  {
   "cell_type": "code",
   "execution_count": 20,
   "metadata": {},
   "outputs": [
    {
     "name": "stdout",
     "output_type": "stream",
     "text": [
      "{'salary': 7000, 'bonus': 800}\n"
     ]
    }
   ],
   "source": [
    "print(pydat['company']['employee']['payble'])"
   ]
  },
  {
   "cell_type": "code",
   "execution_count": 11,
   "metadata": {
    "scrolled": true
   },
   "outputs": [
    {
     "name": "stdout",
     "output_type": "stream",
     "text": [
      "7000\n"
     ]
    }
   ],
   "source": [
    "print(pydat['company']['employee']['payble']['salary'])"
   ]
  },
  {
   "cell_type": "markdown",
   "metadata": {},
   "source": [
    "#### Read and play around with .json files"
   ]
  },
  {
   "cell_type": "code",
   "execution_count": 2,
   "metadata": {
    "scrolled": true
   },
   "outputs": [],
   "source": [
    "import json\n",
    "\n",
    "with open('../data/states.json') as pyfile:\n",
    "  data = json.load(pyfile)"
   ]
  },
  {
   "cell_type": "code",
   "execution_count": 3,
   "metadata": {},
   "outputs": [
    {
     "data": {
      "text/plain": [
       "{'states': [{'name': 'Alabama',\n",
       "   'abbreviation': 'AL',\n",
       "   'area_codes': ['205', '251', '256', '334', '938']},\n",
       "  {'name': 'Alaska', 'abbreviation': 'AK', 'area_codes': ['907']},\n",
       "  {'name': 'Arizona',\n",
       "   'abbreviation': 'AZ',\n",
       "   'area_codes': ['480', '520', '602', '623', '928']},\n",
       "  {'name': 'Arkansas',\n",
       "   'abbreviation': 'AR',\n",
       "   'area_codes': ['479', '501', '870']},\n",
       "  {'name': 'California',\n",
       "   'abbreviation': 'CA',\n",
       "   'area_codes': ['209',\n",
       "    '213',\n",
       "    '310',\n",
       "    '323',\n",
       "    '408',\n",
       "    '415',\n",
       "    '424',\n",
       "    '442',\n",
       "    '510',\n",
       "    '530',\n",
       "    '559',\n",
       "    '562',\n",
       "    '619',\n",
       "    '626',\n",
       "    '628',\n",
       "    '650',\n",
       "    '657',\n",
       "    '661',\n",
       "    '669',\n",
       "    '707',\n",
       "    '714',\n",
       "    '747',\n",
       "    '760',\n",
       "    '805',\n",
       "    '818',\n",
       "    '831',\n",
       "    '858',\n",
       "    '909',\n",
       "    '916',\n",
       "    '925',\n",
       "    '949',\n",
       "    '951']},\n",
       "  {'name': 'Colorado',\n",
       "   'abbreviation': 'CO',\n",
       "   'area_codes': ['303', '719', '720', '970']},\n",
       "  {'name': 'Connecticut',\n",
       "   'abbreviation': 'CT',\n",
       "   'area_codes': ['203', '475', '860', '959']},\n",
       "  {'name': 'Delaware', 'abbreviation': 'DE', 'area_codes': ['302']},\n",
       "  {'name': 'Florida',\n",
       "   'abbreviation': 'FL',\n",
       "   'area_codes': ['239',\n",
       "    '305',\n",
       "    '321',\n",
       "    '352',\n",
       "    '386',\n",
       "    '407',\n",
       "    '561',\n",
       "    '727',\n",
       "    '754',\n",
       "    '772',\n",
       "    '786',\n",
       "    '813',\n",
       "    '850',\n",
       "    '863',\n",
       "    '904',\n",
       "    '941',\n",
       "    '954']},\n",
       "  {'name': 'Georgia',\n",
       "   'abbreviation': 'GA',\n",
       "   'area_codes': ['229',\n",
       "    '404',\n",
       "    '470',\n",
       "    '478',\n",
       "    '678',\n",
       "    '706',\n",
       "    '762',\n",
       "    '770',\n",
       "    '912']},\n",
       "  {'name': 'Hawaii', 'abbreviation': 'HI', 'area_codes': ['808']},\n",
       "  {'name': 'Idaho', 'abbreviation': 'ID', 'area_codes': ['208']},\n",
       "  {'name': 'Illinois',\n",
       "   'abbreviation': 'IL',\n",
       "   'area_codes': ['217',\n",
       "    '224',\n",
       "    '309',\n",
       "    '312',\n",
       "    '331',\n",
       "    '618',\n",
       "    '630',\n",
       "    '708',\n",
       "    '773',\n",
       "    '779',\n",
       "    '815',\n",
       "    '847',\n",
       "    '872']},\n",
       "  {'name': 'Indiana',\n",
       "   'abbreviation': 'IN',\n",
       "   'area_codes': ['219', '260', '317', '463', '574', '765', '812', '930']},\n",
       "  {'name': 'Iowa',\n",
       "   'abbreviation': 'IA',\n",
       "   'area_codes': ['319', '515', '563', '641', '712']},\n",
       "  {'name': 'Kansas',\n",
       "   'abbreviation': 'KS',\n",
       "   'area_codes': ['316', '620', '785', '913']},\n",
       "  {'name': 'Kentucky',\n",
       "   'abbreviation': 'KY',\n",
       "   'area_codes': ['270', '364', '502', '606', '859']},\n",
       "  {'name': 'Louisiana',\n",
       "   'abbreviation': 'LA',\n",
       "   'area_codes': ['225', '318', '337', '504', '985']},\n",
       "  {'name': 'Maine', 'abbreviation': 'ME', 'area_codes': ['207']},\n",
       "  {'name': 'Maryland',\n",
       "   'abbreviation': 'MD',\n",
       "   'area_codes': ['240', '301', '410', '443', '667']},\n",
       "  {'name': 'Massachusetts',\n",
       "   'abbreviation': 'MA',\n",
       "   'area_codes': ['339',\n",
       "    '351',\n",
       "    '413',\n",
       "    '508',\n",
       "    '617',\n",
       "    '774',\n",
       "    '781',\n",
       "    '857',\n",
       "    '978']},\n",
       "  {'name': 'Michigan',\n",
       "   'abbreviation': 'MI',\n",
       "   'area_codes': ['231',\n",
       "    '248',\n",
       "    '269',\n",
       "    '313',\n",
       "    '517',\n",
       "    '586',\n",
       "    '616',\n",
       "    '734',\n",
       "    '810',\n",
       "    '906',\n",
       "    '947',\n",
       "    '989']},\n",
       "  {'name': 'Minnesota',\n",
       "   'abbreviation': 'MN',\n",
       "   'area_codes': ['218', '320', '507', '612', '651', '763', '952']},\n",
       "  {'name': 'Mississippi',\n",
       "   'abbreviation': 'MS',\n",
       "   'area_codes': ['228', '601', '662', '769']},\n",
       "  {'name': 'Missouri',\n",
       "   'abbreviation': 'MO',\n",
       "   'area_codes': ['314', '417', '573', '636', '660', '816']},\n",
       "  {'name': 'Montana', 'abbreviation': 'MT', 'area_codes': ['406']},\n",
       "  {'name': 'Nebraska',\n",
       "   'abbreviation': 'NE',\n",
       "   'area_codes': ['308', '402', '531']},\n",
       "  {'name': 'Nevada',\n",
       "   'abbreviation': 'NV',\n",
       "   'area_codes': ['702', '725', '775']},\n",
       "  {'name': 'New Hampshire', 'abbreviation': 'NH', 'area_codes': ['603']},\n",
       "  {'name': 'New Jersey',\n",
       "   'abbreviation': 'NJ',\n",
       "   'area_codes': ['201',\n",
       "    '551',\n",
       "    '609',\n",
       "    '732',\n",
       "    '848',\n",
       "    '856',\n",
       "    '862',\n",
       "    '908',\n",
       "    '973']},\n",
       "  {'name': 'New Mexico', 'abbreviation': 'NM', 'area_codes': ['505', '575']},\n",
       "  {'name': 'New York',\n",
       "   'abbreviation': 'NY',\n",
       "   'area_codes': ['212',\n",
       "    '315',\n",
       "    '332',\n",
       "    '347',\n",
       "    '516',\n",
       "    '518',\n",
       "    '585',\n",
       "    '607',\n",
       "    '631',\n",
       "    '646',\n",
       "    '680',\n",
       "    '716',\n",
       "    '718',\n",
       "    '845',\n",
       "    '914',\n",
       "    '917',\n",
       "    '929',\n",
       "    '934']},\n",
       "  {'name': 'North Carolina',\n",
       "   'abbreviation': 'NC',\n",
       "   'area_codes': ['252',\n",
       "    '336',\n",
       "    '704',\n",
       "    '743',\n",
       "    '828',\n",
       "    '910',\n",
       "    '919',\n",
       "    '980',\n",
       "    '984']},\n",
       "  {'name': 'North Dakota', 'abbreviation': 'ND', 'area_codes': ['701']},\n",
       "  {'name': 'Ohio',\n",
       "   'abbreviation': 'OH',\n",
       "   'area_codes': ['216',\n",
       "    '220',\n",
       "    '234',\n",
       "    '330',\n",
       "    '380',\n",
       "    '419',\n",
       "    '440',\n",
       "    '513',\n",
       "    '567',\n",
       "    '614',\n",
       "    '740',\n",
       "    '937']},\n",
       "  {'name': 'Oklahoma',\n",
       "   'abbreviation': 'OK',\n",
       "   'area_codes': ['405', '539', '580', '918']},\n",
       "  {'name': 'Oregon',\n",
       "   'abbreviation': 'OR',\n",
       "   'area_codes': ['458', '503', '541', '971']},\n",
       "  {'name': 'Pennsylvania',\n",
       "   'abbreviation': 'PA',\n",
       "   'area_codes': ['215',\n",
       "    '267',\n",
       "    '272',\n",
       "    '412',\n",
       "    '484',\n",
       "    '570',\n",
       "    '610',\n",
       "    '717',\n",
       "    '724',\n",
       "    '814',\n",
       "    '878']},\n",
       "  {'name': 'Rhode Island', 'abbreviation': 'RI', 'area_codes': ['401']},\n",
       "  {'name': 'South Carolina',\n",
       "   'abbreviation': 'SC',\n",
       "   'area_codes': ['803', '843', '854', '864']},\n",
       "  {'name': 'South Dakota', 'abbreviation': 'SD', 'area_codes': ['605']},\n",
       "  {'name': 'Tennessee',\n",
       "   'abbreviation': 'TN',\n",
       "   'area_codes': ['423', '615', '629', '731', '865', '901', '931']},\n",
       "  {'name': 'Texas',\n",
       "   'abbreviation': 'TX',\n",
       "   'area_codes': ['210',\n",
       "    '214',\n",
       "    '254',\n",
       "    '281',\n",
       "    '325',\n",
       "    '346',\n",
       "    '361',\n",
       "    '409',\n",
       "    '430',\n",
       "    '432',\n",
       "    '469',\n",
       "    '512',\n",
       "    '682',\n",
       "    '713',\n",
       "    '737',\n",
       "    '806',\n",
       "    '817',\n",
       "    '830',\n",
       "    '832',\n",
       "    '903',\n",
       "    '915',\n",
       "    '936',\n",
       "    '940',\n",
       "    '956',\n",
       "    '972',\n",
       "    '979']},\n",
       "  {'name': 'Utah', 'abbreviation': 'UT', 'area_codes': ['385', '435', '801']},\n",
       "  {'name': 'Vermont', 'abbreviation': 'VT', 'area_codes': ['802']},\n",
       "  {'name': 'Virginia',\n",
       "   'abbreviation': 'VA',\n",
       "   'area_codes': ['276', '434', '540', '571', '703', '757', '804']},\n",
       "  {'name': 'Washington',\n",
       "   'abbreviation': 'WA',\n",
       "   'area_codes': ['206', '253', '360', '425', '509']},\n",
       "  {'name': 'West Virginia',\n",
       "   'abbreviation': 'WV',\n",
       "   'area_codes': ['304', '681']},\n",
       "  {'name': 'Wisconsin',\n",
       "   'abbreviation': 'WI',\n",
       "   'area_codes': ['262', '414', '534', '608', '715', '920']},\n",
       "  {'name': 'Wyoming', 'abbreviation': 'WY', 'area_codes': ['307']}]}"
      ]
     },
     "execution_count": 3,
     "metadata": {},
     "output_type": "execute_result"
    }
   ],
   "source": [
    "data"
   ]
  },
  {
   "cell_type": "code",
   "execution_count": 4,
   "metadata": {},
   "outputs": [
    {
     "data": {
      "text/plain": [
       "dict"
      ]
     },
     "execution_count": 4,
     "metadata": {},
     "output_type": "execute_result"
    }
   ],
   "source": [
    "type(data)"
   ]
  },
  {
   "cell_type": "code",
   "execution_count": 5,
   "metadata": {
    "scrolled": false
   },
   "outputs": [
    {
     "data": {
      "text/plain": [
       "[{'name': 'Alabama',\n",
       "  'abbreviation': 'AL',\n",
       "  'area_codes': ['205', '251', '256', '334', '938']},\n",
       " {'name': 'Alaska', 'abbreviation': 'AK', 'area_codes': ['907']},\n",
       " {'name': 'Arizona',\n",
       "  'abbreviation': 'AZ',\n",
       "  'area_codes': ['480', '520', '602', '623', '928']},\n",
       " {'name': 'Arkansas',\n",
       "  'abbreviation': 'AR',\n",
       "  'area_codes': ['479', '501', '870']},\n",
       " {'name': 'California',\n",
       "  'abbreviation': 'CA',\n",
       "  'area_codes': ['209',\n",
       "   '213',\n",
       "   '310',\n",
       "   '323',\n",
       "   '408',\n",
       "   '415',\n",
       "   '424',\n",
       "   '442',\n",
       "   '510',\n",
       "   '530',\n",
       "   '559',\n",
       "   '562',\n",
       "   '619',\n",
       "   '626',\n",
       "   '628',\n",
       "   '650',\n",
       "   '657',\n",
       "   '661',\n",
       "   '669',\n",
       "   '707',\n",
       "   '714',\n",
       "   '747',\n",
       "   '760',\n",
       "   '805',\n",
       "   '818',\n",
       "   '831',\n",
       "   '858',\n",
       "   '909',\n",
       "   '916',\n",
       "   '925',\n",
       "   '949',\n",
       "   '951']},\n",
       " {'name': 'Colorado',\n",
       "  'abbreviation': 'CO',\n",
       "  'area_codes': ['303', '719', '720', '970']},\n",
       " {'name': 'Connecticut',\n",
       "  'abbreviation': 'CT',\n",
       "  'area_codes': ['203', '475', '860', '959']},\n",
       " {'name': 'Delaware', 'abbreviation': 'DE', 'area_codes': ['302']},\n",
       " {'name': 'Florida',\n",
       "  'abbreviation': 'FL',\n",
       "  'area_codes': ['239',\n",
       "   '305',\n",
       "   '321',\n",
       "   '352',\n",
       "   '386',\n",
       "   '407',\n",
       "   '561',\n",
       "   '727',\n",
       "   '754',\n",
       "   '772',\n",
       "   '786',\n",
       "   '813',\n",
       "   '850',\n",
       "   '863',\n",
       "   '904',\n",
       "   '941',\n",
       "   '954']},\n",
       " {'name': 'Georgia',\n",
       "  'abbreviation': 'GA',\n",
       "  'area_codes': ['229',\n",
       "   '404',\n",
       "   '470',\n",
       "   '478',\n",
       "   '678',\n",
       "   '706',\n",
       "   '762',\n",
       "   '770',\n",
       "   '912']},\n",
       " {'name': 'Hawaii', 'abbreviation': 'HI', 'area_codes': ['808']},\n",
       " {'name': 'Idaho', 'abbreviation': 'ID', 'area_codes': ['208']},\n",
       " {'name': 'Illinois',\n",
       "  'abbreviation': 'IL',\n",
       "  'area_codes': ['217',\n",
       "   '224',\n",
       "   '309',\n",
       "   '312',\n",
       "   '331',\n",
       "   '618',\n",
       "   '630',\n",
       "   '708',\n",
       "   '773',\n",
       "   '779',\n",
       "   '815',\n",
       "   '847',\n",
       "   '872']},\n",
       " {'name': 'Indiana',\n",
       "  'abbreviation': 'IN',\n",
       "  'area_codes': ['219', '260', '317', '463', '574', '765', '812', '930']},\n",
       " {'name': 'Iowa',\n",
       "  'abbreviation': 'IA',\n",
       "  'area_codes': ['319', '515', '563', '641', '712']},\n",
       " {'name': 'Kansas',\n",
       "  'abbreviation': 'KS',\n",
       "  'area_codes': ['316', '620', '785', '913']},\n",
       " {'name': 'Kentucky',\n",
       "  'abbreviation': 'KY',\n",
       "  'area_codes': ['270', '364', '502', '606', '859']},\n",
       " {'name': 'Louisiana',\n",
       "  'abbreviation': 'LA',\n",
       "  'area_codes': ['225', '318', '337', '504', '985']},\n",
       " {'name': 'Maine', 'abbreviation': 'ME', 'area_codes': ['207']},\n",
       " {'name': 'Maryland',\n",
       "  'abbreviation': 'MD',\n",
       "  'area_codes': ['240', '301', '410', '443', '667']},\n",
       " {'name': 'Massachusetts',\n",
       "  'abbreviation': 'MA',\n",
       "  'area_codes': ['339',\n",
       "   '351',\n",
       "   '413',\n",
       "   '508',\n",
       "   '617',\n",
       "   '774',\n",
       "   '781',\n",
       "   '857',\n",
       "   '978']},\n",
       " {'name': 'Michigan',\n",
       "  'abbreviation': 'MI',\n",
       "  'area_codes': ['231',\n",
       "   '248',\n",
       "   '269',\n",
       "   '313',\n",
       "   '517',\n",
       "   '586',\n",
       "   '616',\n",
       "   '734',\n",
       "   '810',\n",
       "   '906',\n",
       "   '947',\n",
       "   '989']},\n",
       " {'name': 'Minnesota',\n",
       "  'abbreviation': 'MN',\n",
       "  'area_codes': ['218', '320', '507', '612', '651', '763', '952']},\n",
       " {'name': 'Mississippi',\n",
       "  'abbreviation': 'MS',\n",
       "  'area_codes': ['228', '601', '662', '769']},\n",
       " {'name': 'Missouri',\n",
       "  'abbreviation': 'MO',\n",
       "  'area_codes': ['314', '417', '573', '636', '660', '816']},\n",
       " {'name': 'Montana', 'abbreviation': 'MT', 'area_codes': ['406']},\n",
       " {'name': 'Nebraska',\n",
       "  'abbreviation': 'NE',\n",
       "  'area_codes': ['308', '402', '531']},\n",
       " {'name': 'Nevada', 'abbreviation': 'NV', 'area_codes': ['702', '725', '775']},\n",
       " {'name': 'New Hampshire', 'abbreviation': 'NH', 'area_codes': ['603']},\n",
       " {'name': 'New Jersey',\n",
       "  'abbreviation': 'NJ',\n",
       "  'area_codes': ['201',\n",
       "   '551',\n",
       "   '609',\n",
       "   '732',\n",
       "   '848',\n",
       "   '856',\n",
       "   '862',\n",
       "   '908',\n",
       "   '973']},\n",
       " {'name': 'New Mexico', 'abbreviation': 'NM', 'area_codes': ['505', '575']},\n",
       " {'name': 'New York',\n",
       "  'abbreviation': 'NY',\n",
       "  'area_codes': ['212',\n",
       "   '315',\n",
       "   '332',\n",
       "   '347',\n",
       "   '516',\n",
       "   '518',\n",
       "   '585',\n",
       "   '607',\n",
       "   '631',\n",
       "   '646',\n",
       "   '680',\n",
       "   '716',\n",
       "   '718',\n",
       "   '845',\n",
       "   '914',\n",
       "   '917',\n",
       "   '929',\n",
       "   '934']},\n",
       " {'name': 'North Carolina',\n",
       "  'abbreviation': 'NC',\n",
       "  'area_codes': ['252',\n",
       "   '336',\n",
       "   '704',\n",
       "   '743',\n",
       "   '828',\n",
       "   '910',\n",
       "   '919',\n",
       "   '980',\n",
       "   '984']},\n",
       " {'name': 'North Dakota', 'abbreviation': 'ND', 'area_codes': ['701']},\n",
       " {'name': 'Ohio',\n",
       "  'abbreviation': 'OH',\n",
       "  'area_codes': ['216',\n",
       "   '220',\n",
       "   '234',\n",
       "   '330',\n",
       "   '380',\n",
       "   '419',\n",
       "   '440',\n",
       "   '513',\n",
       "   '567',\n",
       "   '614',\n",
       "   '740',\n",
       "   '937']},\n",
       " {'name': 'Oklahoma',\n",
       "  'abbreviation': 'OK',\n",
       "  'area_codes': ['405', '539', '580', '918']},\n",
       " {'name': 'Oregon',\n",
       "  'abbreviation': 'OR',\n",
       "  'area_codes': ['458', '503', '541', '971']},\n",
       " {'name': 'Pennsylvania',\n",
       "  'abbreviation': 'PA',\n",
       "  'area_codes': ['215',\n",
       "   '267',\n",
       "   '272',\n",
       "   '412',\n",
       "   '484',\n",
       "   '570',\n",
       "   '610',\n",
       "   '717',\n",
       "   '724',\n",
       "   '814',\n",
       "   '878']},\n",
       " {'name': 'Rhode Island', 'abbreviation': 'RI', 'area_codes': ['401']},\n",
       " {'name': 'South Carolina',\n",
       "  'abbreviation': 'SC',\n",
       "  'area_codes': ['803', '843', '854', '864']},\n",
       " {'name': 'South Dakota', 'abbreviation': 'SD', 'area_codes': ['605']},\n",
       " {'name': 'Tennessee',\n",
       "  'abbreviation': 'TN',\n",
       "  'area_codes': ['423', '615', '629', '731', '865', '901', '931']},\n",
       " {'name': 'Texas',\n",
       "  'abbreviation': 'TX',\n",
       "  'area_codes': ['210',\n",
       "   '214',\n",
       "   '254',\n",
       "   '281',\n",
       "   '325',\n",
       "   '346',\n",
       "   '361',\n",
       "   '409',\n",
       "   '430',\n",
       "   '432',\n",
       "   '469',\n",
       "   '512',\n",
       "   '682',\n",
       "   '713',\n",
       "   '737',\n",
       "   '806',\n",
       "   '817',\n",
       "   '830',\n",
       "   '832',\n",
       "   '903',\n",
       "   '915',\n",
       "   '936',\n",
       "   '940',\n",
       "   '956',\n",
       "   '972',\n",
       "   '979']},\n",
       " {'name': 'Utah', 'abbreviation': 'UT', 'area_codes': ['385', '435', '801']},\n",
       " {'name': 'Vermont', 'abbreviation': 'VT', 'area_codes': ['802']},\n",
       " {'name': 'Virginia',\n",
       "  'abbreviation': 'VA',\n",
       "  'area_codes': ['276', '434', '540', '571', '703', '757', '804']},\n",
       " {'name': 'Washington',\n",
       "  'abbreviation': 'WA',\n",
       "  'area_codes': ['206', '253', '360', '425', '509']},\n",
       " {'name': 'West Virginia', 'abbreviation': 'WV', 'area_codes': ['304', '681']},\n",
       " {'name': 'Wisconsin',\n",
       "  'abbreviation': 'WI',\n",
       "  'area_codes': ['262', '414', '534', '608', '715', '920']},\n",
       " {'name': 'Wyoming', 'abbreviation': 'WY', 'area_codes': ['307']}]"
      ]
     },
     "execution_count": 5,
     "metadata": {},
     "output_type": "execute_result"
    }
   ],
   "source": [
    "data['states']"
   ]
  },
  {
   "cell_type": "code",
   "execution_count": 6,
   "metadata": {},
   "outputs": [
    {
     "data": {
      "text/plain": [
       "list"
      ]
     },
     "execution_count": 6,
     "metadata": {},
     "output_type": "execute_result"
    }
   ],
   "source": [
    "type(data['states'])"
   ]
  },
  {
   "cell_type": "code",
   "execution_count": 31,
   "metadata": {},
   "outputs": [
    {
     "data": {
      "text/plain": [
       "50"
      ]
     },
     "execution_count": 31,
     "metadata": {},
     "output_type": "execute_result"
    }
   ],
   "source": [
    "len(data['states'])"
   ]
  },
  {
   "cell_type": "code",
   "execution_count": 7,
   "metadata": {},
   "outputs": [
    {
     "data": {
      "text/plain": [
       "{'name': 'Alabama',\n",
       " 'abbreviation': 'AL',\n",
       " 'area_codes': ['205', '251', '256', '334', '938']}"
      ]
     },
     "execution_count": 7,
     "metadata": {},
     "output_type": "execute_result"
    }
   ],
   "source": [
    "data['states'][0]"
   ]
  },
  {
   "cell_type": "code",
   "execution_count": 8,
   "metadata": {},
   "outputs": [
    {
     "data": {
      "text/plain": [
       "{'name': 'Alaska', 'abbreviation': 'AK', 'area_codes': ['907']}"
      ]
     },
     "execution_count": 8,
     "metadata": {},
     "output_type": "execute_result"
    }
   ],
   "source": [
    "data['states'][1]"
   ]
  },
  {
   "cell_type": "code",
   "execution_count": 9,
   "metadata": {
    "scrolled": false
   },
   "outputs": [
    {
     "name": "stdout",
     "output_type": "stream",
     "text": [
      "Alabama\n",
      "Alaska\n",
      "Arizona\n",
      "Arkansas\n",
      "California\n",
      "Colorado\n",
      "Connecticut\n",
      "Delaware\n",
      "Florida\n",
      "Georgia\n",
      "Hawaii\n",
      "Idaho\n",
      "Illinois\n",
      "Indiana\n",
      "Iowa\n",
      "Kansas\n",
      "Kentucky\n",
      "Louisiana\n",
      "Maine\n",
      "Maryland\n",
      "Massachusetts\n",
      "Michigan\n",
      "Minnesota\n",
      "Mississippi\n",
      "Missouri\n",
      "Montana\n",
      "Nebraska\n",
      "Nevada\n",
      "New Hampshire\n",
      "New Jersey\n",
      "New Mexico\n",
      "New York\n",
      "North Carolina\n",
      "North Dakota\n",
      "Ohio\n",
      "Oklahoma\n",
      "Oregon\n",
      "Pennsylvania\n",
      "Rhode Island\n",
      "South Carolina\n",
      "South Dakota\n",
      "Tennessee\n",
      "Texas\n",
      "Utah\n",
      "Vermont\n",
      "Virginia\n",
      "Washington\n",
      "West Virginia\n",
      "Wisconsin\n",
      "Wyoming\n"
     ]
    }
   ],
   "source": [
    "for state in data['states']:\n",
    "  print(state[\"name\"])"
   ]
  },
  {
   "cell_type": "code",
   "execution_count": 11,
   "metadata": {
    "scrolled": true
   },
   "outputs": [],
   "source": [
    "abb_list = []\n",
    "for state in data['states']:\n",
    "  abb_list.append(state[\"abbreviation\"])"
   ]
  },
  {
   "cell_type": "code",
   "execution_count": 12,
   "metadata": {},
   "outputs": [
    {
     "data": {
      "text/plain": [
       "['AL',\n",
       " 'AK',\n",
       " 'AZ',\n",
       " 'AR',\n",
       " 'CA',\n",
       " 'CO',\n",
       " 'CT',\n",
       " 'DE',\n",
       " 'FL',\n",
       " 'GA',\n",
       " 'HI',\n",
       " 'ID',\n",
       " 'IL',\n",
       " 'IN',\n",
       " 'IA',\n",
       " 'KS',\n",
       " 'KY',\n",
       " 'LA',\n",
       " 'ME',\n",
       " 'MD',\n",
       " 'MA',\n",
       " 'MI',\n",
       " 'MN',\n",
       " 'MS',\n",
       " 'MO',\n",
       " 'MT',\n",
       " 'NE',\n",
       " 'NV',\n",
       " 'NH',\n",
       " 'NJ',\n",
       " 'NM',\n",
       " 'NY',\n",
       " 'NC',\n",
       " 'ND',\n",
       " 'OH',\n",
       " 'OK',\n",
       " 'OR',\n",
       " 'PA',\n",
       " 'RI',\n",
       " 'SC',\n",
       " 'SD',\n",
       " 'TN',\n",
       " 'TX',\n",
       " 'UT',\n",
       " 'VT',\n",
       " 'VA',\n",
       " 'WA',\n",
       " 'WV',\n",
       " 'WI',\n",
       " 'WY']"
      ]
     },
     "execution_count": 12,
     "metadata": {},
     "output_type": "execute_result"
    }
   ],
   "source": [
    "abb_list"
   ]
  },
  {
   "cell_type": "code",
   "execution_count": 34,
   "metadata": {},
   "outputs": [],
   "source": [
    "for i in data['states']:\n",
    "    del i[\"area_codes\"]"
   ]
  },
  {
   "cell_type": "code",
   "execution_count": 35,
   "metadata": {
    "scrolled": true
   },
   "outputs": [
    {
     "data": {
      "text/plain": [
       "{'states': [{'name': 'Alabama', 'abbreviation': 'AL'},\n",
       "  {'name': 'Alaska', 'abbreviation': 'AK'},\n",
       "  {'name': 'Arizona', 'abbreviation': 'AZ'},\n",
       "  {'name': 'Arkansas', 'abbreviation': 'AR'},\n",
       "  {'name': 'California', 'abbreviation': 'CA'},\n",
       "  {'name': 'Colorado', 'abbreviation': 'CO'},\n",
       "  {'name': 'Connecticut', 'abbreviation': 'CT'},\n",
       "  {'name': 'Delaware', 'abbreviation': 'DE'},\n",
       "  {'name': 'Florida', 'abbreviation': 'FL'},\n",
       "  {'name': 'Georgia', 'abbreviation': 'GA'},\n",
       "  {'name': 'Hawaii', 'abbreviation': 'HI'},\n",
       "  {'name': 'Idaho', 'abbreviation': 'ID'},\n",
       "  {'name': 'Illinois', 'abbreviation': 'IL'},\n",
       "  {'name': 'Indiana', 'abbreviation': 'IN'},\n",
       "  {'name': 'Iowa', 'abbreviation': 'IA'},\n",
       "  {'name': 'Kansas', 'abbreviation': 'KS'},\n",
       "  {'name': 'Kentucky', 'abbreviation': 'KY'},\n",
       "  {'name': 'Louisiana', 'abbreviation': 'LA'},\n",
       "  {'name': 'Maine', 'abbreviation': 'ME'},\n",
       "  {'name': 'Maryland', 'abbreviation': 'MD'},\n",
       "  {'name': 'Massachusetts', 'abbreviation': 'MA'},\n",
       "  {'name': 'Michigan', 'abbreviation': 'MI'},\n",
       "  {'name': 'Minnesota', 'abbreviation': 'MN'},\n",
       "  {'name': 'Mississippi', 'abbreviation': 'MS'},\n",
       "  {'name': 'Missouri', 'abbreviation': 'MO'},\n",
       "  {'name': 'Montana', 'abbreviation': 'MT'},\n",
       "  {'name': 'Nebraska', 'abbreviation': 'NE'},\n",
       "  {'name': 'Nevada', 'abbreviation': 'NV'},\n",
       "  {'name': 'New Hampshire', 'abbreviation': 'NH'},\n",
       "  {'name': 'New Jersey', 'abbreviation': 'NJ'},\n",
       "  {'name': 'New Mexico', 'abbreviation': 'NM'},\n",
       "  {'name': 'New York', 'abbreviation': 'NY'},\n",
       "  {'name': 'North Carolina', 'abbreviation': 'NC'},\n",
       "  {'name': 'North Dakota', 'abbreviation': 'ND'},\n",
       "  {'name': 'Ohio', 'abbreviation': 'OH'},\n",
       "  {'name': 'Oklahoma', 'abbreviation': 'OK'},\n",
       "  {'name': 'Oregon', 'abbreviation': 'OR'},\n",
       "  {'name': 'Pennsylvania', 'abbreviation': 'PA'},\n",
       "  {'name': 'Rhode Island', 'abbreviation': 'RI'},\n",
       "  {'name': 'South Carolina', 'abbreviation': 'SC'},\n",
       "  {'name': 'South Dakota', 'abbreviation': 'SD'},\n",
       "  {'name': 'Tennessee', 'abbreviation': 'TN'},\n",
       "  {'name': 'Texas', 'abbreviation': 'TX'},\n",
       "  {'name': 'Utah', 'abbreviation': 'UT'},\n",
       "  {'name': 'Vermont', 'abbreviation': 'VT'},\n",
       "  {'name': 'Virginia', 'abbreviation': 'VA'},\n",
       "  {'name': 'Washington', 'abbreviation': 'WA'},\n",
       "  {'name': 'West Virginia', 'abbreviation': 'WV'},\n",
       "  {'name': 'Wisconsin', 'abbreviation': 'WI'},\n",
       "  {'name': 'Wyoming', 'abbreviation': 'WY'}]}"
      ]
     },
     "execution_count": 35,
     "metadata": {},
     "output_type": "execute_result"
    }
   ],
   "source": [
    "data"
   ]
  },
  {
   "cell_type": "code",
   "execution_count": 36,
   "metadata": {},
   "outputs": [
    {
     "data": {
      "text/plain": [
       "dict"
      ]
     },
     "execution_count": 36,
     "metadata": {},
     "output_type": "execute_result"
    }
   ],
   "source": [
    "type(data)"
   ]
  },
  {
   "cell_type": "code",
   "execution_count": 37,
   "metadata": {},
   "outputs": [],
   "source": [
    "with open('data/new_states.json', 'w') as pyfile:\n",
    "  json.dump(data, pyfile, indent=2)"
   ]
  }
 ],
 "metadata": {
  "kernelspec": {
   "display_name": "Python 3",
   "language": "python",
   "name": "python3"
  },
  "language_info": {
   "codemirror_mode": {
    "name": "ipython",
    "version": 3
   },
   "file_extension": ".py",
   "mimetype": "text/x-python",
   "name": "python",
   "nbconvert_exporter": "python",
   "pygments_lexer": "ipython3",
   "version": "3.8.5"
  }
 },
 "nbformat": 4,
 "nbformat_minor": 4
}
