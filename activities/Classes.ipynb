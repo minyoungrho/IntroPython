{
 "cells": [
  {
   "cell_type": "markdown",
   "metadata": {},
   "source": [
    "## Patient Class \n",
    "\n",
    "In this exercise we will make an \"Patient\" class. The Patient class should store the state of a patient in our hospital system."
   ]
  },
  {
   "cell_type": "markdown",
   "metadata": {},
   "source": [
    "#### Problem 1: \n",
    "\n",
    "Create a class called \"Patient\".\n",
    "The constructor should have two parameters\n",
    "(in addition to self, of course):\n",
    "\n",
    "1. name (str)\n",
    "2. symptoms (list of str)\n",
    "\n",
    "the parameters should be stored as attributes\n",
    "called \"name\" and \"symptoms\" respectively"
   ]
  },
  {
   "cell_type": "code",
   "execution_count": 36,
   "metadata": {},
   "outputs": [],
   "source": [
    "class Patient:\n",
    "    \n",
    "    def __init__(self, name, symptoms):\n",
    "        self.getname = name\n",
    "        self.getsymptoms = symptoms"
   ]
  },
  {
   "cell_type": "code",
   "execution_count": 37,
   "metadata": {},
   "outputs": [],
   "source": [
    "patient1 = Patient('Minyoung',['cough','nausea'])"
   ]
  },
  {
   "cell_type": "code",
   "execution_count": 38,
   "metadata": {},
   "outputs": [],
   "source": [
    "patient2 = Patient('Nasra',['healthy'])"
   ]
  },
  {
   "cell_type": "code",
   "execution_count": 39,
   "metadata": {},
   "outputs": [],
   "source": [
    "patient3 = Patient('Oriana',['healthy','happy'])"
   ]
  },
  {
   "cell_type": "code",
   "execution_count": 40,
   "metadata": {},
   "outputs": [
    {
     "data": {
      "text/plain": [
       "'Oriana'"
      ]
     },
     "execution_count": 40,
     "metadata": {},
     "output_type": "execute_result"
    }
   ],
   "source": [
    "patient3.getname"
   ]
  },
  {
   "cell_type": "code",
   "execution_count": 41,
   "metadata": {},
   "outputs": [
    {
     "data": {
      "text/plain": [
       "['cough', 'nausea']"
      ]
     },
     "execution_count": 41,
     "metadata": {},
     "output_type": "execute_result"
    }
   ],
   "source": [
    "patient1.getsymptoms"
   ]
  },
  {
   "cell_type": "markdown",
   "metadata": {},
   "source": [
    "#### Problem 2: \n",
    "\n",
    "Create a method called \"add_test\"\n",
    "which takes two paramters:\n",
    "1. the name of the test (str)\n",
    "2. the results of the test (bool)\n",
    "\n",
    "This information should be stored somehow."
   ]
  },
  {
   "cell_type": "code",
   "execution_count": 42,
   "metadata": {},
   "outputs": [],
   "source": [
    "class Patient:\n",
    "    \n",
    "    def __init__(self, name_patient, symptoms):\n",
    "        self.name = name_patient\n",
    "        self.symptoms = symptoms\n",
    "        self.result = {}\n",
    "        \n",
    "    def add_test(self, name_test, result):\n",
    "         self.result[name_test] = result"
   ]
  },
  {
   "cell_type": "code",
   "execution_count": 43,
   "metadata": {},
   "outputs": [],
   "source": [
    "patient1 = Patient('Minyoung',['cough','nausea'])"
   ]
  },
  {
   "cell_type": "code",
   "execution_count": 44,
   "metadata": {},
   "outputs": [],
   "source": [
    "patient1.add_test('Covid', False)"
   ]
  },
  {
   "cell_type": "code",
   "execution_count": 45,
   "metadata": {},
   "outputs": [],
   "source": [
    "patient1.add_test('Yearly Checkup', 'Normal')"
   ]
  },
  {
   "cell_type": "code",
   "execution_count": 46,
   "metadata": {},
   "outputs": [
    {
     "data": {
      "text/plain": [
       "'Minyoung'"
      ]
     },
     "execution_count": 46,
     "metadata": {},
     "output_type": "execute_result"
    }
   ],
   "source": [
    "patient1.name"
   ]
  },
  {
   "cell_type": "code",
   "execution_count": 47,
   "metadata": {},
   "outputs": [
    {
     "data": {
      "text/plain": [
       "['cough', 'nausea']"
      ]
     },
     "execution_count": 47,
     "metadata": {},
     "output_type": "execute_result"
    }
   ],
   "source": [
    "patient1.symptoms"
   ]
  },
  {
   "cell_type": "code",
   "execution_count": 48,
   "metadata": {},
   "outputs": [
    {
     "data": {
      "text/plain": [
       "{'Covid': False, 'Yearly Checkup': 'Normal'}"
      ]
     },
     "execution_count": 48,
     "metadata": {},
     "output_type": "execute_result"
    }
   ],
   "source": [
    "patient1.result"
   ]
  },
  {
   "cell_type": "markdown",
   "metadata": {},
   "source": [
    "#### Problem 3: \n",
    "\n",
    "Create a method called has_covid()\n",
    "which takes no parameters.\n",
    "\n",
    "\"has_covid\" returns a float, between 0.0\n",
    "and 1.0, which represents the probability\n",
    "of the patient to have Covid-19\n",
    "\n",
    "The probability should work as follows:\n",
    "\n",
    "1. If the user has had the test \"covid\"\n",
    "   then it should return .99 if the test\n",
    "   is True and 0.01 if the test is False\n",
    "2. Otherwise, probability starts at 0.05\n",
    "   and ncreases by 0.1 for each of the\n",
    "   following symptoms:\n",
    "   ['fever', 'cough', 'anosmia']\n"
   ]
  },
  {
   "cell_type": "code",
   "execution_count": 49,
   "metadata": {},
   "outputs": [],
   "source": [
    "class Patient:\n",
    "    \n",
    "    def __init__(self, name, symptoms):\n",
    "        self.name = name\n",
    "        self.symptoms = symptoms\n",
    "        self.result = {}\n",
    "        \n",
    "    def add_test(self, name, result):\n",
    "         self.result[name] = result\n",
    "            \n",
    "    def has_covid(self):\n",
    "        if 'covid' in self.result.keys():\n",
    "            if (self.result['covid']):\n",
    "                prob=.99\n",
    "            else:\n",
    "                prob=.01\n",
    "        else:\n",
    "            prob=0.05\n",
    "            for sym in self.symptoms:\n",
    "                if sym=='fever' or sym=='cough' or sym=='anosmia':\n",
    "                    prob +=0.1     \n",
    "        return prob"
   ]
  },
  {
   "cell_type": "code",
   "execution_count": 50,
   "metadata": {},
   "outputs": [],
   "source": [
    "patient1 = Patient('Minyoung', ['cough', 'nausea'])"
   ]
  },
  {
   "cell_type": "code",
   "execution_count": 51,
   "metadata": {
    "scrolled": true
   },
   "outputs": [
    {
     "data": {
      "text/plain": [
       "0.15000000000000002"
      ]
     },
     "execution_count": 51,
     "metadata": {},
     "output_type": "execute_result"
    }
   ],
   "source": [
    "patient1.has_covid()"
   ]
  },
  {
   "cell_type": "code",
   "execution_count": 52,
   "metadata": {},
   "outputs": [],
   "source": [
    "patient1.add_test('covid',False)"
   ]
  },
  {
   "cell_type": "code",
   "execution_count": 53,
   "metadata": {},
   "outputs": [
    {
     "data": {
      "text/plain": [
       "0.01"
      ]
     },
     "execution_count": 53,
     "metadata": {},
     "output_type": "execute_result"
    }
   ],
   "source": [
    "patient1.has_covid()"
   ]
  },
  {
   "cell_type": "markdown",
   "metadata": {},
   "source": [
    "## Encoder Class\n",
    "\n",
    "In this exercise we will make an \"Encoder\" class\n",
    "\n",
    "The Encoder class should be able to encode\n",
    "a list of strings into a list of\n",
    "integers that can later be losslessly\n",
    "decoded.\n",
    "\n",
    "For example, if given a list of words:\n",
    "['Joan', 'went', 'to', 'the', 'store']\n",
    "it might encode:\n",
    "[245, 9873, 290, 10, 209]\n",
    "and be able to decode it back again\n",
    "to the list of words.\n",
    "\n",
    "HINT: you can use an integer attribute called \"index\";\n",
    "whenever you encounter a new word (string), increment \n",
    "the index and use that value to encode the word"
   ]
  },
  {
   "cell_type": "markdown",
   "metadata": {},
   "source": [
    "#### Problem 4:\n",
    "\n",
    "Create a class called \"Encoder.\"\n",
    "The constructor should have no\n",
    "parameters (besides, of course, \"self\")"
   ]
  },
  {
   "cell_type": "code",
   "execution_count": 54,
   "metadata": {},
   "outputs": [],
   "source": [
    "class Encoder:\n",
    "    def __init__(self):\n",
    "        pass"
   ]
  },
  {
   "cell_type": "markdown",
   "metadata": {},
   "source": [
    "#### Problem 5:\n",
    "Add two methods: \"encode\" and \"decode\"\n",
    "\n",
    "\"encode\" should have a single parameter,\n",
    "a list of strings, and returns\n",
    "a list of integers which represents the\n",
    "encoding.\n",
    "\n",
    "\"decode\" should have a single parameter,\n",
    "a list of integers, and returns a list\n",
    "of strings, which should be the same as\n",
    "was passed to \"encode\""
   ]
  },
  {
   "cell_type": "code",
   "execution_count": 55,
   "metadata": {},
   "outputs": [],
   "source": [
    "import random\n",
    "\n",
    "class Encoder:\n",
    "    \n",
    "    def __init__(self):\n",
    "        pass\n",
    "        \n",
    "    def encode(self,x_str):\n",
    "        code = [0]*len(x_str)\n",
    "        for i in range(len(x_str)):\n",
    "            code[i] = random.randint(1,10*len(x_str))\n",
    "        return code"
   ]
  },
  {
   "cell_type": "code",
   "execution_count": 56,
   "metadata": {
    "scrolled": true
   },
   "outputs": [
    {
     "data": {
      "text/plain": [
       "[1, 9]"
      ]
     },
     "execution_count": 56,
     "metadata": {},
     "output_type": "execute_result"
    }
   ],
   "source": [
    "encoder1 = Encoder()\n",
    "encoder1.encode(['Hello', 'World'])"
   ]
  },
  {
   "cell_type": "code",
   "execution_count": 66,
   "metadata": {},
   "outputs": [],
   "source": [
    "import random\n",
    "\n",
    "class Encoder:\n",
    "    \n",
    "    def __init__(self):\n",
    "        pass\n",
    "        \n",
    "    def encode(self,x_str):\n",
    "        x_key = list(set(x_str))\n",
    "        x_code = random.sample(range(len(x_str)),len(x_str))\n",
    "        temp = [x_key.index(i) for i in x_str]\n",
    "        return temp\n",
    "\n",
    "    def decode(self,x_int):\n",
    "        temp = [x_key[i] for i in x_int]\n",
    "        return temp"
   ]
  },
  {
   "cell_type": "code",
   "execution_count": 67,
   "metadata": {
    "scrolled": true
   },
   "outputs": [
    {
     "data": {
      "text/plain": [
       "[2, 3, 0, 1, 4, 2, 3, 0, 5, 4]"
      ]
     },
     "execution_count": 67,
     "metadata": {},
     "output_type": "execute_result"
    }
   ],
   "source": [
    "temp = Encoder()\n",
    "temp.encode(['I','am','a','student','.','I','am','a','teacher','.'])"
   ]
  },
  {
   "cell_type": "code",
   "execution_count": 68,
   "metadata": {},
   "outputs": [
    {
     "data": {
      "text/plain": [
       "['I', 'am', 'a', 'student', '.', 'I', 'am', 'a', 'teacher', '.']"
      ]
     },
     "execution_count": 68,
     "metadata": {},
     "output_type": "execute_result"
    }
   ],
   "source": [
    "temp.decode([2, 3, 0, 1, 4, 2, 3, 0, 5, 4])"
   ]
  }
 ],
 "metadata": {
  "kernelspec": {
   "display_name": "Python 3",
   "language": "python",
   "name": "python3"
  },
  "language_info": {
   "codemirror_mode": {
    "name": "ipython",
    "version": 3
   },
   "file_extension": ".py",
   "mimetype": "text/x-python",
   "name": "python",
   "nbconvert_exporter": "python",
   "pygments_lexer": "ipython3",
   "version": "3.8.5"
  }
 },
 "nbformat": 4,
 "nbformat_minor": 4
}
