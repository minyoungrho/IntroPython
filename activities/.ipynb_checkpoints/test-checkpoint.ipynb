{
 "cells": [
  {
   "cell_type": "markdown",
   "metadata": {},
   "source": [
    "# Test"
   ]
  },
  {
   "cell_type": "markdown",
   "metadata": {},
   "source": [
    "#### \"count\"\n",
    "\n",
    "Create a function called \"count\" which inputs an integer N and prints from 0 to N using a loop."
   ]
  },
  {
   "cell_type": "markdown",
   "metadata": {},
   "source": [
    "#### \"divisible5\"\n",
    "Create a function \"divisible5\": given a list, only display elements which are divisible by 5.\n",
    "\n",
    "Hint: use modulo opearation (in Python \"%\" function)."
   ]
  },
  {
   "cell_type": "markdown",
   "metadata": {},
   "source": [
    "#### \"count_build\"\n",
    "\n",
    "Create a function called \"count_build\" which inputs an integer N and prints the following pattern.\n",
    "\n",
    "If N=3, output: \\\n",
    "\\[0\\] \\\n",
    "\\[0 1\\] \\\n",
    "\\[0 1 2\\] \\\n",
    "\\[0 1 2 3\\] "
   ]
  },
  {
   "cell_type": "markdown",
   "metadata": {},
   "source": [
    "#### \"reverse_int\"\n",
    "\n",
    "Create a function called \"reverse_int\" where the function inputs an integer and outputs a reversed digits. \n",
    "\n",
    "For example, \n",
    "\n",
    "Given:\n",
    "76542\n",
    "\n",
    "Expected output:\n",
    "24567\n",
    "\n",
    "\n",
    "Hint: Use functions str() and int()"
   ]
  },
  {
   "cell_type": "markdown",
   "metadata": {},
   "source": [
    "#### \"odd_or_even\"\n",
    "\n",
    "Create a file called \"odd_or_even\" where given an integer N, the output prints \"odd\" if N is an odd number and \"even\" if N is an even number.\n",
    "\n",
    "Hint: use modulo operation %"
   ]
  },
  {
   "cell_type": "markdown",
   "metadata": {},
   "source": [
    "#### \"elemet_search\"\n",
    "\n",
    "Write a function that takes a list and an element, then outputs a boolean (True or False) if the element is included in the list.\n",
    "\n",
    "For example:\n",
    "\n",
    "List input =\\[\"Write\", \"a\", \"function\", \"that\", \"takes\", \"a\", \"list\"\\] \\\n",
    "Element input = \n",
    "\"a\"\n",
    "\n",
    "Output = True"
   ]
  },
  {
   "cell_type": "markdown",
   "metadata": {},
   "source": [
    "#### \"list_overlap\"\n",
    "\n",
    "Create a fuction called \"list_overlap\" that takes two lists, say for example these two:\n",
    "\n",
    "  a = \\[1, 1, 2, 3, 5, 8, 13, 21, 34, 55, 89\\] \\\n",
    "  b = \\[1, 2, 3, 4, 5, 6, 7, 8, 9, 10, 11, 12, 13\\]\n",
    "\n",
    "and write a program that returns a list that contains only the elements that are common between the lists (without duplicates).\n",
    "\n",
    "The the output list should be:\n",
    "\\[1,2,3,5,8,13\\]\n",
    "\n",
    "Hint: if you need to remove elements that are duplicated in the list, use set() function and then make the set into a list again. In other words, try: list(set(\\[1,1,2,3\\])). "
   ]
  },
  {
   "cell_type": "markdown",
   "metadata": {},
   "source": [
    "\n",
    "#### \"dictionary_maker\"\n",
    "Create a function called \"dictionary_maker\"\n",
    "that has one parameter: a list of 2-tuples.\n",
    "It should return the same data in the form\n",
    "of a dictionary, where the first element\n",
    "of every tuple is the key and the second\n",
    "element is the value.\n",
    "\n",
    "For example, if given: [('foo', 1), ('bar', 3)]\n",
    "it should return {'foo': 1, 'bar': 3}\n",
    "\n",
    "NOTE: Don't use any built-in functions!"
   ]
  },
  {
   "cell_type": "markdown",
   "metadata": {},
   "source": [
    "#### \"birthday_dictionary\"\n",
    "\n",
    "Ask all the members of the bootcamp and create a dictionary of \"name\" and \"birthday\" pair. Call that dictionary \"birthday_dictionary\""
   ]
  },
  {
   "cell_type": "markdown",
   "metadata": {},
   "source": [
    "#### \"birthday_json\"\n",
    "\n",
    "Create a \"birthday_json.json\" file from the \"birthday_dictionary\" and save it to your computer as a .json file."
   ]
  }
 ],
 "metadata": {
  "kernelspec": {
   "display_name": "Python 3",
   "language": "python",
   "name": "python3"
  },
  "language_info": {
   "codemirror_mode": {
    "name": "ipython",
    "version": 3
   },
   "file_extension": ".py",
   "mimetype": "text/x-python",
   "name": "python",
   "nbconvert_exporter": "python",
   "pygments_lexer": "ipython3",
   "version": "3.8.5"
  }
 },
 "nbformat": 4,
 "nbformat_minor": 4
}
