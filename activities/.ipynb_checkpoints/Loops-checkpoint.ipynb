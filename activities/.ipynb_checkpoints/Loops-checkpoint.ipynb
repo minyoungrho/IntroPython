{
 "cells": [
  {
   "cell_type": "markdown",
   "metadata": {},
   "source": [
    "# Loops"
   ]
  },
  {
   "cell_type": "markdown",
   "metadata": {},
   "source": [
    "#### only_adults\n",
    "Write a function \"only_adults\" that\n",
    "takes as input a list of numbers and \n",
    "returns only those numbers >= 18"
   ]
  },
  {
   "cell_type": "code",
   "execution_count": 4,
   "metadata": {},
   "outputs": [
    {
     "ename": "TypeError",
     "evalue": "'>=' not supported between instances of 'list' and 'int'",
     "output_type": "error",
     "traceback": [
      "\u001b[1;31m---------------------------------------------------------------------------\u001b[0m",
      "\u001b[1;31mTypeError\u001b[0m                                 Traceback (most recent call last)",
      "\u001b[1;32m<ipython-input-4-4a3a487a7277>\u001b[0m in \u001b[0;36m<module>\u001b[1;34m\u001b[0m\n\u001b[0;32m      1\u001b[0m \u001b[0mx_list\u001b[0m \u001b[1;33m=\u001b[0m \u001b[1;33m[\u001b[0m\u001b[1;36m1\u001b[0m\u001b[1;33m,\u001b[0m\u001b[1;36m2\u001b[0m\u001b[1;33m,\u001b[0m\u001b[1;36m3\u001b[0m\u001b[1;33m,\u001b[0m\u001b[1;36m10\u001b[0m\u001b[1;33m,\u001b[0m\u001b[1;36m50\u001b[0m\u001b[1;33m]\u001b[0m\u001b[1;33m\u001b[0m\u001b[1;33m\u001b[0m\u001b[0m\n\u001b[1;32m----> 2\u001b[1;33m \u001b[1;32mif\u001b[0m \u001b[0mx_list\u001b[0m\u001b[1;33m>=\u001b[0m\u001b[1;36m28\u001b[0m\u001b[1;33m:\u001b[0m\u001b[1;33m\u001b[0m\u001b[1;33m\u001b[0m\u001b[0m\n\u001b[0m\u001b[0;32m      3\u001b[0m     \u001b[0mprint\u001b[0m\u001b[1;33m(\u001b[0m\u001b[0mx_list\u001b[0m\u001b[1;33m)\u001b[0m\u001b[1;33m\u001b[0m\u001b[1;33m\u001b[0m\u001b[0m\n",
      "\u001b[1;31mTypeError\u001b[0m: '>=' not supported between instances of 'list' and 'int'"
     ]
    }
   ],
   "source": [
    "x_list = [1,2,3,10,50]\n",
    "if x_list>=28:\n",
    "    print(x_list)"
   ]
  },
  {
   "cell_type": "code",
   "execution_count": 51,
   "metadata": {},
   "outputs": [],
   "source": [
    "def only_adults(x_list):\n",
    "    y_list = []\n",
    "    for elem in x_list:\n",
    "        if elem>=18:\n",
    "            y_list.append(elem)\n",
    "    return y_list"
   ]
  },
  {
   "cell_type": "code",
   "execution_count": 52,
   "metadata": {},
   "outputs": [
    {
     "data": {
      "text/plain": [
       "[45, 86, 34]"
      ]
     },
     "execution_count": 52,
     "metadata": {},
     "output_type": "execute_result"
    }
   ],
   "source": [
    "only_adults([1,2,45,86,34])"
   ]
  },
  {
   "cell_type": "markdown",
   "metadata": {},
   "source": [
    "----"
   ]
  },
  {
   "cell_type": "markdown",
   "metadata": {},
   "source": [
    "#### get_only_adults\n",
    "Write a function \"get_only_adults\" that\n",
    "takes as input a list of numbers and \n",
    "returns only those numbers >= 18\n",
    "and removes any None values from the list"
   ]
  },
  {
   "cell_type": "code",
   "execution_count": 6,
   "metadata": {},
   "outputs": [],
   "source": [
    "def get_only_adults(x_list):\n",
    "    y_list = []\n",
    "    for elem in x_list:\n",
    "        if elem is None:\n",
    "            x_list.remove(elem)\n",
    "    \n",
    "    for elem in x_list:\n",
    "        if elem>=18 and elem is not None:\n",
    "            y_list.append(elem)\n",
    "    \n",
    "    return y_list"
   ]
  },
  {
   "cell_type": "code",
   "execution_count": 7,
   "metadata": {
    "scrolled": true
   },
   "outputs": [
    {
     "data": {
      "text/plain": [
       "[45, 86, 34]"
      ]
     },
     "execution_count": 7,
     "metadata": {},
     "output_type": "execute_result"
    }
   ],
   "source": [
    "get_only_adults([1,2,None,45,86,34])"
   ]
  },
  {
   "cell_type": "markdown",
   "metadata": {},
   "source": [
    "----"
   ]
  },
  {
   "cell_type": "markdown",
   "metadata": {},
   "source": [
    "#### are_all_adults\n",
    "Write a function \"are_all_adults\" that\n",
    "takes as input a list of numbers\n",
    "and returns True if they are all >= 18,\n",
    "and returns False otherwise\n",
    "Is this a map, filter, or reduce?"
   ]
  },
  {
   "cell_type": "code",
   "execution_count": 55,
   "metadata": {},
   "outputs": [],
   "source": [
    "def are_all_adults(x_list):\n",
    "    count_adults = 0 \n",
    "    for elem in x_list:\n",
    "        if elem>=18:\n",
    "            count_adults += 1\n",
    "    return (len(x_list)==count_adults)"
   ]
  },
  {
   "cell_type": "code",
   "execution_count": 56,
   "metadata": {},
   "outputs": [
    {
     "data": {
      "text/plain": [
       "False"
      ]
     },
     "execution_count": 56,
     "metadata": {},
     "output_type": "execute_result"
    }
   ],
   "source": [
    "are_all_adults([13,19,20,25])"
   ]
  },
  {
   "cell_type": "code",
   "execution_count": 57,
   "metadata": {},
   "outputs": [
    {
     "data": {
      "text/plain": [
       "True"
      ]
     },
     "execution_count": 57,
     "metadata": {},
     "output_type": "execute_result"
    }
   ],
   "source": [
    "are_all_adults([19,20,25])"
   ]
  },
  {
   "cell_type": "markdown",
   "metadata": {},
   "source": [
    "----"
   ]
  },
  {
   "cell_type": "markdown",
   "metadata": {},
   "source": [
    "#### count_nones\n",
    "\n",
    "Write a function \"count_nones\" that\n",
    "takes as input a list of any type of element\n",
    "and returns a count of how many of those\n",
    "elements are None types.\n",
    "\n",
    "Is this a map, filter, or reduce?"
   ]
  },
  {
   "cell_type": "code",
   "execution_count": 58,
   "metadata": {},
   "outputs": [],
   "source": [
    "def count_nones(x):\n",
    "    temp = 0\n",
    "    for elem in x:\n",
    "        if elem is None:\n",
    "            temp+=1\n",
    "            \n",
    "    return temp"
   ]
  },
  {
   "cell_type": "code",
   "execution_count": 59,
   "metadata": {
    "scrolled": true
   },
   "outputs": [
    {
     "data": {
      "text/plain": [
       "4"
      ]
     },
     "execution_count": 59,
     "metadata": {},
     "output_type": "execute_result"
    }
   ],
   "source": [
    "count_nones([None,1,2,3,None,None,None])"
   ]
  },
  {
   "cell_type": "markdown",
   "metadata": {},
   "source": [
    "----"
   ]
  },
  {
   "cell_type": "markdown",
   "metadata": {},
   "source": [
    "#### longest_word\n",
    "Write a function \"longest_word\" that\n",
    "takes as input a list of strings\n",
    "and returns the longest string in the\n",
    "list.\n",
    "Hint: you will need to use two \"accumulators\""
   ]
  },
  {
   "cell_type": "code",
   "execution_count": 60,
   "metadata": {},
   "outputs": [],
   "source": [
    "def longest_word(x_list):\n",
    "    word_length = []\n",
    "    for elem in x_list:\n",
    "        word_length.append(len(elem))\n",
    "        \n",
    "    return max(word_length)"
   ]
  },
  {
   "cell_type": "code",
   "execution_count": 61,
   "metadata": {
    "scrolled": false
   },
   "outputs": [
    {
     "data": {
      "text/plain": [
       "5"
      ]
     },
     "execution_count": 61,
     "metadata": {},
     "output_type": "execute_result"
    }
   ],
   "source": [
    "longest_word([\"hello\",\"hi\"])"
   ]
  },
  {
   "cell_type": "markdown",
   "metadata": {},
   "source": [
    "#### factorial\n",
    "Write a function \"factorial\"\n",
    "\n",
    "It takes a number and returns the\n",
    "factorial of that number. \n",
    "\n",
    "The factorial of n is the product of all \n",
    "positive integers less than or equal to n\n",
    "\n",
    "HINT: use range()\n",
    "https://docs.python.org/3/library/stdtypes.html#typesseq-range\n",
    "\n",
    "range(n) produces an iterable of length n: \n",
    "[0,1,2,...,n-1]"
   ]
  },
  {
   "cell_type": "code",
   "execution_count": 62,
   "metadata": {},
   "outputs": [],
   "source": [
    "def factorial(x_int):\n",
    "    temp = 1\n",
    "    for i in range(1,x_int+1):\n",
    "        temp = temp*i\n",
    "        \n",
    "    return temp"
   ]
  },
  {
   "cell_type": "code",
   "execution_count": 63,
   "metadata": {
    "scrolled": true
   },
   "outputs": [
    {
     "data": {
      "text/plain": [
       "120"
      ]
     },
     "execution_count": 63,
     "metadata": {},
     "output_type": "execute_result"
    }
   ],
   "source": [
    "factorial(5)"
   ]
  },
  {
   "cell_type": "markdown",
   "metadata": {},
   "source": [
    "#### n_highest_number\n",
    "Write a function \"n_highest_number\"\n",
    "with two parameters: \n",
    "1. a list of numbers\n",
    "2. an integer\n",
    "\n",
    "\"n_highest_number\" should return the nth \n",
    "highest number in the list, where n is the \n",
    "second parameter of the function. \n",
    "\n",
    "Assume\n",
    "that the numbers will be unique (no duplicates).\n",
    "Also assume that n <= the number of elements \n",
    "in the list.\n",
    "\n",
    "NOTE: Only use the operations and functions\n",
    "we have learned so far! No cheating!\n",
    "\n",
    "HINT: Can you reuse anything from the previous\n",
    "exercise? That may or may not work, depending\n",
    "on how you implemented it. \n",
    "\n",
    "HINT HINT: use the function \"range\"!"
   ]
  },
  {
   "cell_type": "markdown",
   "metadata": {},
   "source": [
    "*Solution Sketch:*\n",
    "\n",
    "1. Figure out: find minimum (or maximum) from any list\n",
    "2. Once minimum is found from the biggest list, repeat the following process until unsorted list is empty \n",
    "    - Add the minimum (or maximum) to the new sorted list\n",
    "    - Remove the minimum (or maximum) to the old unsorted list\n",
    "3. Now you have the sorted list, write a funtion that returns n-th highest number"
   ]
  },
  {
   "cell_type": "markdown",
   "metadata": {},
   "source": [
    "1. Find the minimum value for lists that starts from index 0, 1, 2, 3, ..."
   ]
  },
  {
   "cell_type": "code",
   "execution_count": 64,
   "metadata": {
    "scrolled": true
   },
   "outputs": [
    {
     "data": {
      "text/plain": [
       "0"
      ]
     },
     "execution_count": 64,
     "metadata": {},
     "output_type": "execute_result"
    }
   ],
   "source": [
    "unsorted_list = [5,2,0,8,7,6]\n",
    "temp_min = unsorted_list[0]\n",
    "for j in range(1,len(unsorted_list)): \n",
    "    if unsorted_list[j] < temp_min:\n",
    "        temp_min = unsorted_list[j]    \n",
    "temp_min"
   ]
  },
  {
   "cell_type": "markdown",
   "metadata": {},
   "source": [
    "2. Once minimum is found from the biggest list, repeat the following process until unsorted list is empty \n",
    "    - Add the minimum (or maximum) to the new sorted list\n",
    "    - Remove the minimum (or maximum) to the old unsorted list"
   ]
  },
  {
   "cell_type": "code",
   "execution_count": 65,
   "metadata": {
    "scrolled": true
   },
   "outputs": [
    {
     "data": {
      "text/plain": [
       "[0, 2, 5, 6, 7, 8]"
      ]
     },
     "execution_count": 65,
     "metadata": {},
     "output_type": "execute_result"
    }
   ],
   "source": [
    "unsorted_list = [5,2,0,8,7,6]\n",
    "sorted_list = []\n",
    "while len(unsorted_list)>0:\n",
    "    temp_min = unsorted_list[0]\n",
    "    for j in range(1,len(unsorted_list)):\n",
    "        if unsorted_list[j] < temp_min:\n",
    "            temp_min = unsorted_list[j]    \n",
    "    sorted_list.append(temp_min)\n",
    "    unsorted_list.remove(temp_min)\n",
    "sorted_list    "
   ]
  },
  {
   "cell_type": "markdown",
   "metadata": {},
   "source": [
    "3. Now you have the sorted list, write a funtion that returns n-th highest number"
   ]
  },
  {
   "cell_type": "code",
   "execution_count": 66,
   "metadata": {},
   "outputs": [],
   "source": [
    "def n_highest_number(unsorted_list,nth):\n",
    "    sorted_list = []\n",
    "    while len(unsorted_list)>0:\n",
    "        temp_min = unsorted_list[0]\n",
    "        for j in range(0+1,len(unsorted_list)):\n",
    "            if unsorted_list[j] < temp_min:\n",
    "                temp_min = unsorted_list[j]    \n",
    "        sorted_list.append(temp_min)\n",
    "        unsorted_list.remove(temp_min)    \n",
    "        \n",
    "    return sorted_list[len(unsorted_list)-nth]"
   ]
  },
  {
   "cell_type": "code",
   "execution_count": 67,
   "metadata": {},
   "outputs": [
    {
     "data": {
      "text/plain": [
       "5"
      ]
     },
     "execution_count": 67,
     "metadata": {},
     "output_type": "execute_result"
    }
   ],
   "source": [
    "n_highest_number([1,5,8,3],2)"
   ]
  },
  {
   "cell_type": "markdown",
   "metadata": {},
   "source": [
    "----"
   ]
  },
  {
   "cell_type": "markdown",
   "metadata": {},
   "source": [
    "#### Don't do \"every\""
   ]
  }
 ],
 "metadata": {
  "kernelspec": {
   "display_name": "Python 3",
   "language": "python",
   "name": "python3"
  },
  "language_info": {
   "codemirror_mode": {
    "name": "ipython",
    "version": 3
   },
   "file_extension": ".py",
   "mimetype": "text/x-python",
   "name": "python",
   "nbconvert_exporter": "python",
   "pygments_lexer": "ipython3",
   "version": "3.8.5"
  }
 },
 "nbformat": 4,
 "nbformat_minor": 4
}
