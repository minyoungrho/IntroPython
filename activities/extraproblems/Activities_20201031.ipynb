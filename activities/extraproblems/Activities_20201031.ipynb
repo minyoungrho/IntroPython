{
 "cells": [
  {
   "cell_type": "markdown",
   "metadata": {},
   "source": [
    "# Activities: October 31, 2020"
   ]
  },
  {
   "cell_type": "markdown",
   "metadata": {},
   "source": [
    "## Egg Drop Problem:"
   ]
  },
  {
   "cell_type": "markdown",
   "metadata": {},
   "source": [
    "You are given K identical eggs, and you have access to a building with N floors from 1 to N. \n",
    "\n",
    "There exists a floor F with 0 <= F <= N such that any egg dropped at a floor higher than F will break, and any egg dropped at or below floor F will not break.\n",
    "\n",
    "Each move, you may take an egg (if you have an unbroken one) and drop it from any floor X (with 1 <= X <= N). \n",
    "\n",
    "Note: if an egg breaks, then you cannot take any more moves. You can re-use the egg if the egg doesn't break."
   ]
  },
  {
   "cell_type": "markdown",
   "metadata": {},
   "source": [
    "#### Objective/Goal:\n",
    "With certainty, how many moves do you have to make, with given number of eggs at each move, for one to fine the value of F?"
   ]
  },
  {
   "cell_type": "markdown",
   "metadata": {},
   "source": [
    "Let's try solving this step by step:"
   ]
  },
  {
   "cell_type": "markdown",
   "metadata": {},
   "source": [
    "**Case1: 1 egg** \n",
    "\n",
    "To know with certainty, you start at floor 1 and incrementally go to the next floor until you have reached a floor where the egg breaks. The floor below is F. Hence, you need F+1 moves. "
   ]
  },
  {
   "cell_type": "markdown",
   "metadata": {},
   "source": [
    "**Case2: $\\infty$ eggs**\\*\n",
    "\n",
    "*This case is called a perfect binary tree.\n",
    "\n",
    "First we would go to the $\\frac{N}{2}$-th floor. If the egg breaks, then F is in one of the floors below.\n",
    "\n",
    "Let's keep going with the logic.\n",
    "\n",
    "First egg, you will still have to test $\\frac{N}{2}$ floors.\n",
    "\n",
    "Second egg, $\\frac{N}{2}$$\\frac{1}{2}$ floors.\n",
    "\n",
    "3rd egg, $\\frac{N}{2} \\frac{1}{2} \\frac{1}{2}$ floors.\n",
    "\n",
    "...\n",
    "\n",
    "e-th egg,  $\\frac{N}{2^e}$ floors. \n",
    "\n",
    "In order to find out the value of F with certainty, we will have to test until we are left with only 1 floor to test. \n",
    "\n",
    "In other words, $\\frac{N}{2^e} = 1$; $e = \\log_2(N)$"
   ]
  },
  {
   "cell_type": "markdown",
   "metadata": {},
   "source": [
    "### Activity 1: \n",
    "**Can you write a function where you input N, and you output e?**\n",
    "\n",
    "For those of you who needs hint in terms of the logic for solving the model, here are some resources:\n",
    "1. [Blog](http://datagenetics.com/blog/july22012/index.html)\n",
    "2. [YouTube1](https://www.youtube.com/watch?v=NGtt7GJ1uiM&t=215s)\n",
    "3. [YouTube2](https://www.youtube.com/watch?v=iOaRjDT0vjc)\n",
    "\n",
    "**Advanced Version**: \n",
    "1. Can you solve using at most 2 eggs situation? First describe the problem, and then write a function that inputs the total floor and outputs minimum of the maximum number of moves that is required to find floor F. \n",
    "2. If you would like to do an advanced problem, you can write the function that solves this problem with M number of eggs with N floors."
   ]
  },
  {
   "cell_type": "code",
   "execution_count": 24,
   "metadata": {},
   "outputs": [
    {
     "data": {
      "text/plain": [
       "100"
      ]
     },
     "execution_count": 24,
     "metadata": {},
     "output_type": "execute_result"
    }
   ],
   "source": [
    "def moves_1egg(N):\n",
    "    return N\n",
    "moves_1egg(100)"
   ]
  },
  {
   "cell_type": "code",
   "execution_count": 21,
   "metadata": {},
   "outputs": [
    {
     "data": {
      "text/plain": [
       "7"
      ]
     },
     "execution_count": 21,
     "metadata": {},
     "output_type": "execute_result"
    }
   ],
   "source": [
    "import math\n",
    "def moves_inftyegg(N):\n",
    "    return math.ceil(math.log(N,2))\n",
    "moves_inftyegg(100)"
   ]
  },
  {
   "cell_type": "code",
   "execution_count": 25,
   "metadata": {},
   "outputs": [
    {
     "data": {
      "text/plain": [
       "14"
      ]
     },
     "execution_count": 25,
     "metadata": {},
     "output_type": "execute_result"
    }
   ],
   "source": [
    "def moves_2egg(N):\n",
    "    for n in range(N):\n",
    "        if (n*(n+1)/2)>=100:\n",
    "            return n\n",
    "moves_2egg(100)"
   ]
  },
  {
   "cell_type": "markdown",
   "metadata": {},
   "source": [
    "## Egyption Fraction:"
   ]
  },
  {
   "cell_type": "markdown",
   "metadata": {},
   "source": [
    "An [Egyption fraction](https://en.wikipedia.org/wiki/Egyptian_fraction) is a finite sum of dinstinct unit fractions, such as\n",
    "\n",
    "$$\\frac{1}{2} + \\frac{1}{8}$$\n",
    "\n",
    "where normally we would write it as \n",
    "\n",
    "$$\\frac{5}{8}$$\n",
    "\n",
    "\n",
    "Fibonacci had a Greedy algorithm for Egyption fractions which expands the fraction $\\frac{x}{y}$ to be represented by repeatedly perfoming the replacement of:\n",
    "\n",
    "$$\\begin{aligned}\n",
    "\\frac{x}{y} = \\frac{1}{\\lceil \\frac{y}{x} \\rceil} + \\frac{(-y)\\mod x}{y \\lceil \\frac{y}{x} \\rceil}\n",
    "\\end{aligned}$$\n",
    "\n",
    "where $\\lceil x \\rceil$  is the ceiling (or round up) function.\n",
    "\n",
    "\n",
    "For example, \n",
    "\n",
    "$$\\begin{aligned}\n",
    "\\frac{43}{48} \n",
    "&= \\frac{1}{2} + \\frac{38}{96} \\\\ \n",
    "&= \\frac{1}{2} + \\frac{1}{3} + \\frac{18}{288} \\\\\n",
    "&= \\frac{1}{2} + \\frac{1}{3} + \\frac{1}{16} + \\frac{0}{4608} \\\\\n",
    "&= \\frac{1}{2} + \\frac{1}{3} + \\frac{1}{16}\n",
    "\\end{aligned}$$\n",
    "\n",
    "\n",
    "Note:\n",
    "- ${\\lceil \\frac{y}{x} \\rceil} = {\\lceil \\frac{48}{43} \\rceil} \\approx {\\lceil 1.1162 \\rceil} = 2$\n",
    "- $(-y)\\mod x = (-48) \\mod 43 = 38$ \n",
    "- $y{\\lceil \\frac{y}{x} \\rceil} = 48*2 = 96$\n",
    "-...\n",
    "\n",
    "A great article on the [Modulo of Negative Numbers](https://torstencurdt.com/tech/posts/modulo-of-negative-numbers/)"
   ]
  },
  {
   "cell_type": "markdown",
   "metadata": {},
   "source": [
    "### Activity 2\n",
    "**Can you write a function that outputs such fractions?**\n",
    "\n",
    "**Advanced Version**: Try out $\\frac{5}{121}$. You will see that the Fibonacci suggestion provides with long, large demoninators. Can you come up with a diffrent method for calculating Egyption fractions?"
   ]
  },
  {
   "cell_type": "code",
   "execution_count": 31,
   "metadata": {},
   "outputs": [],
   "source": [
    "def egyptfrac(x,y):\n",
    "    numerator=[]\n",
    "    denominator=[]\n",
    "    while x>1:        \n",
    "        ceilyx = math.ceil(y/x)\n",
    "        modyx = (-y)%x\n",
    "        yceilyx = y*ceilyx\n",
    "        \n",
    "        numerator.append(1)\n",
    "        denominator.append(ceilyx)\n",
    "        x=modyx\n",
    "        y=yceilyx\n",
    "        \n",
    "    return numerator, denominator\n",
    "    "
   ]
  },
  {
   "cell_type": "code",
   "execution_count": 35,
   "metadata": {},
   "outputs": [
    {
     "data": {
      "text/plain": [
       "([1, 1, 1], [2, 3, 16])"
      ]
     },
     "execution_count": 35,
     "metadata": {},
     "output_type": "execute_result"
    }
   ],
   "source": [
    "egyptfrac(43,48)"
   ]
  },
  {
   "cell_type": "code",
   "execution_count": 34,
   "metadata": {},
   "outputs": [
    {
     "data": {
      "text/plain": [
       "([1, 1, 1, 1], [25, 757, 763309, 873960180913])"
      ]
     },
     "execution_count": 34,
     "metadata": {},
     "output_type": "execute_result"
    }
   ],
   "source": [
    "egyptfrac(5,121)"
   ]
  }
 ],
 "metadata": {
  "kernelspec": {
   "display_name": "Python 3",
   "language": "python",
   "name": "python3"
  },
  "language_info": {
   "codemirror_mode": {
    "name": "ipython",
    "version": 3
   },
   "file_extension": ".py",
   "mimetype": "text/x-python",
   "name": "python",
   "nbconvert_exporter": "python",
   "pygments_lexer": "ipython3",
   "version": "3.8.5"
  }
 },
 "nbformat": 4,
 "nbformat_minor": 4
}
