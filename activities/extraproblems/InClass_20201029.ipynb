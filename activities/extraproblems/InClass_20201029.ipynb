{
 "cells": [
  {
   "cell_type": "markdown",
   "metadata": {},
   "source": [
    "# InClass: October 26, 2020"
   ]
  },
  {
   "cell_type": "code",
   "execution_count": 1,
   "metadata": {},
   "outputs": [],
   "source": [
    "import json"
   ]
  },
  {
   "cell_type": "markdown",
   "metadata": {},
   "source": [
    "#### Convert the following data into JSON format"
   ]
  },
  {
   "cell_type": "code",
   "execution_count": 3,
   "metadata": {},
   "outputs": [
    {
     "data": {
      "text/plain": [
       "dict"
      ]
     },
     "execution_count": 3,
     "metadata": {},
     "output_type": "execute_result"
    }
   ],
   "source": [
    "data = {\"key1\" : \"value1\", \"key2\" : \"value2\"}\n",
    "type(data)"
   ]
  },
  {
   "cell_type": "code",
   "execution_count": 5,
   "metadata": {
    "scrolled": true
   },
   "outputs": [
    {
     "name": "stdout",
     "output_type": "stream",
     "text": [
      "{\"key1\": \"value1\", \"key2\": \"value2\"}\n"
     ]
    }
   ],
   "source": [
    "jsonData = json.dumps(data)\n",
    "print(jsonData)"
   ]
  },
  {
   "cell_type": "code",
   "execution_count": 6,
   "metadata": {},
   "outputs": [
    {
     "data": {
      "text/plain": [
       "str"
      ]
     },
     "execution_count": 6,
     "metadata": {},
     "output_type": "execute_result"
    }
   ],
   "source": [
    "type(jsonData)"
   ]
  },
  {
   "cell_type": "code",
   "execution_count": 7,
   "metadata": {},
   "outputs": [
    {
     "name": "stdout",
     "output_type": "stream",
     "text": [
      "{\n",
      "    \"key1\" : \"value1\",\n",
      "    \"key2\" : \"value2\"\n",
      "}\n"
     ]
    }
   ],
   "source": [
    "jsonData = json.dumps(data, indent=4, separators=(\",\", \" : \"))\n",
    "print(jsonData)"
   ]
  },
  {
   "cell_type": "code",
   "execution_count": 5,
   "metadata": {},
   "outputs": [
    {
     "data": {
      "text/plain": [
       "str"
      ]
     },
     "execution_count": 5,
     "metadata": {},
     "output_type": "execute_result"
    }
   ],
   "source": [
    "type(jsonData)"
   ]
  },
  {
   "cell_type": "markdown",
   "metadata": {},
   "source": [
    "#### Convert JSON format into Python"
   ]
  },
  {
   "cell_type": "code",
   "execution_count": 8,
   "metadata": {},
   "outputs": [
    {
     "data": {
      "text/plain": [
       "str"
      ]
     },
     "execution_count": 8,
     "metadata": {},
     "output_type": "execute_result"
    }
   ],
   "source": [
    "x =  \"\"\"{ \"name\":\"Minyoung\", \"age\":30, \"city\":\"Barcelnoa\"}\"\"\"\n",
    "type(x)"
   ]
  },
  {
   "cell_type": "code",
   "execution_count": 9,
   "metadata": {},
   "outputs": [],
   "source": [
    "y = json.loads(x)"
   ]
  },
  {
   "cell_type": "code",
   "execution_count": 11,
   "metadata": {},
   "outputs": [
    {
     "data": {
      "text/plain": [
       "30"
      ]
     },
     "execution_count": 11,
     "metadata": {},
     "output_type": "execute_result"
    }
   ],
   "source": [
    "y[\"age\"]"
   ]
  },
  {
   "cell_type": "code",
   "execution_count": 12,
   "metadata": {},
   "outputs": [],
   "source": [
    "sampleJson = \"\"\"{ \n",
    "   \"company\":{ \n",
    "      \"employee\":{ \n",
    "         \"name\":\"emma\",\n",
    "         \"payble\":{ \n",
    "            \"salary\":7000,\n",
    "            \"bonus\":800\n",
    "         }\n",
    "      }\n",
    "   }\n",
    "}\"\"\""
   ]
  },
  {
   "cell_type": "code",
   "execution_count": null,
   "metadata": {},
   "outputs": [],
   "source": []
  },
  {
   "cell_type": "code",
   "execution_count": 8,
   "metadata": {},
   "outputs": [
    {
     "data": {
      "text/plain": [
       "str"
      ]
     },
     "execution_count": 8,
     "metadata": {},
     "output_type": "execute_result"
    }
   ],
   "source": [
    "type(sampleJson)"
   ]
  },
  {
   "cell_type": "code",
   "execution_count": 13,
   "metadata": {},
   "outputs": [
    {
     "name": "stdout",
     "output_type": "stream",
     "text": [
      "{'company': {'employee': {'name': 'emma', 'payble': {'salary': 7000, 'bonus': 800}}}}\n"
     ]
    }
   ],
   "source": [
    "pydat = json.loads(sampleJson)\n",
    "print(pydat)"
   ]
  },
  {
   "cell_type": "code",
   "execution_count": 14,
   "metadata": {},
   "outputs": [
    {
     "data": {
      "text/plain": [
       "dict"
      ]
     },
     "execution_count": 14,
     "metadata": {},
     "output_type": "execute_result"
    }
   ],
   "source": [
    "type(pydat)"
   ]
  },
  {
   "cell_type": "markdown",
   "metadata": {},
   "source": [
    "Write code to print the value of salary"
   ]
  },
  {
   "cell_type": "code",
   "execution_count": 11,
   "metadata": {
    "scrolled": true
   },
   "outputs": [
    {
     "name": "stdout",
     "output_type": "stream",
     "text": [
      "7000\n"
     ]
    }
   ],
   "source": [
    "print(pydat['company']['employee']['payble']['salary'])"
   ]
  },
  {
   "cell_type": "markdown",
   "metadata": {},
   "source": [
    "#### Read and play around with .json files"
   ]
  },
  {
   "cell_type": "code",
   "execution_count": 19,
   "metadata": {
    "scrolled": true
   },
   "outputs": [
    {
     "data": {
      "text/plain": [
       "dict"
      ]
     },
     "execution_count": 19,
     "metadata": {},
     "output_type": "execute_result"
    }
   ],
   "source": [
    "import json\n",
    "\n",
    "with open('data/states.json') as pyfile:\n",
    "  data = json.load(pyfile)\n",
    "\n",
    "type(data)"
   ]
  },
  {
   "cell_type": "code",
   "execution_count": 38,
   "metadata": {},
   "outputs": [],
   "source": [
    "with open('data/states.json') as pyfile:\n",
    "    jsonData = pyfile.read()"
   ]
  },
  {
   "cell_type": "code",
   "execution_count": 39,
   "metadata": {},
   "outputs": [
    {
     "data": {
      "text/plain": [
       "str"
      ]
     },
     "execution_count": 39,
     "metadata": {},
     "output_type": "execute_result"
    }
   ],
   "source": [
    "type(jsonData)"
   ]
  },
  {
   "cell_type": "code",
   "execution_count": 43,
   "metadata": {},
   "outputs": [
    {
     "data": {
      "text/plain": [
       "'{\\n  \"states\": [\\n    {\\n      \"name\": \"Alabama\",\\n      \"abbreviation\": \"AL\",\\n      \"area_codes\": [\"205\", \"251\", \"256\", \"334\", \"938\"]\\n    },\\n    {\\n      \"name\": \"Alaska\",\\n      \"abbreviation\": \"AK\",\\n      \"area_codes\": [\"907\"]\\n    },\\n    {\\n      \"name\": \"Arizona\",\\n      \"abbreviation\": \"AZ\",\\n      \"area_codes\": [\"480\", \"520\", \"602\", \"623\", \"928\"]\\n    },\\n    {\\n      \"name\": \"Arkansas\",\\n      \"abbreviation\": \"AR\",\\n      \"area_codes\": [\"479\", \"501\", \"870\"]\\n    },\\n    {\\n      \"name\": \"California\",\\n      \"abbreviation\": \"CA\",\\n      \"area_codes\": [\"209\", \"213\", \"310\", \"323\", \"408\", \"415\", \"424\", \"442\", \"510\", \"530\", \"559\", \"562\", \"619\", \"626\", \"628\", \"650\", \"657\", \"661\", \"669\", \"707\", \"714\", \"747\", \"760\", \"805\", \"818\", \"831\", \"858\", \"909\", \"916\", \"925\", \"949\", \"951\"]\\n    },\\n    {\\n      \"name\": \"Colorado\",\\n      \"abbreviation\": \"CO\",\\n      \"area_codes\": [\"303\", \"719\", \"720\", \"970\"]\\n    },\\n    {\\n      \"name\": \"Connecticut\",\\n      \"abbreviation\": \"CT\",\\n      \"area_codes\": [\"203\", \"475\", \"860\", \"959\"]\\n    },\\n    {\\n      \"name\": \"Delaware\",\\n      \"abbreviation\": \"DE\",\\n      \"area_codes\": [\"302\"]\\n    },\\n    {\\n      \"name\": \"Florida\",\\n      \"abbreviation\": \"FL\",\\n      \"area_codes\": [\"239\", \"305\", \"321\", \"352\", \"386\", \"407\", \"561\", \"727\", \"754\", \"772\", \"786\", \"813\", \"850\", \"863\", \"904\", \"941\", \"954\"]\\n    },\\n    {\\n      \"name\": \"Georgia\",\\n      \"abbreviation\": \"GA\",\\n      \"area_codes\": [\"229\", \"404\", \"470\", \"478\", \"678\", \"706\", \"762\", \"770\", \"912\"]\\n    },\\n    {\\n      \"name\": \"Hawaii\",\\n      \"abbreviation\": \"HI\",\\n      \"area_codes\": [\"808\"]\\n    },\\n    {\\n      \"name\": \"Idaho\",\\n      \"abbreviation\": \"ID\",\\n      \"area_codes\": [\"208\"]\\n    },\\n    {\\n      \"name\": \"Illinois\",\\n      \"abbreviation\": \"IL\",\\n      \"area_codes\": [\"217\", \"224\", \"309\", \"312\", \"331\", \"618\", \"630\", \"708\", \"773\", \"779\", \"815\", \"847\", \"872\"]\\n    },\\n    {\\n      \"name\": \"Indiana\",\\n      \"abbreviation\": \"IN\",\\n      \"area_codes\": [\"219\", \"260\", \"317\", \"463\", \"574\", \"765\", \"812\", \"930\"]\\n    },\\n    {\\n      \"name\": \"Iowa\",\\n      \"abbreviation\": \"IA\",\\n      \"area_codes\": [\"319\", \"515\", \"563\", \"641\", \"712\"]\\n    },\\n    {\\n      \"name\": \"Kansas\",\\n      \"abbreviation\": \"KS\",\\n      \"area_codes\": [\"316\", \"620\", \"785\", \"913\"]\\n    },\\n    {\\n      \"name\": \"Kentucky\",\\n      \"abbreviation\": \"KY\",\\n      \"area_codes\": [\"270\", \"364\", \"502\", \"606\", \"859\"]\\n    },\\n    {\\n      \"name\": \"Louisiana\",\\n      \"abbreviation\": \"LA\",\\n      \"area_codes\": [\"225\", \"318\", \"337\", \"504\", \"985\"]\\n    },\\n    {\\n      \"name\": \"Maine\",\\n      \"abbreviation\": \"ME\",\\n      \"area_codes\": [\"207\"]\\n    },\\n    {\\n      \"name\": \"Maryland\",\\n      \"abbreviation\": \"MD\",\\n      \"area_codes\": [\"240\", \"301\", \"410\", \"443\", \"667\"]\\n    },\\n    {\\n      \"name\": \"Massachusetts\",\\n      \"abbreviation\": \"MA\",\\n      \"area_codes\": [\"339\", \"351\", \"413\", \"508\", \"617\", \"774\", \"781\", \"857\", \"978\"]\\n    },\\n    {\\n      \"name\": \"Michigan\",\\n      \"abbreviation\": \"MI\",\\n      \"area_codes\": [\"231\", \"248\", \"269\", \"313\", \"517\", \"586\", \"616\", \"734\", \"810\", \"906\", \"947\", \"989\"]\\n    },\\n    {\\n      \"name\": \"Minnesota\",\\n      \"abbreviation\": \"MN\",\\n      \"area_codes\": [\"218\", \"320\", \"507\", \"612\", \"651\", \"763\", \"952\"]\\n    },\\n    {\\n      \"name\": \"Mississippi\",\\n      \"abbreviation\": \"MS\",\\n      \"area_codes\": [\"228\", \"601\", \"662\", \"769\"]\\n    },\\n    {\\n      \"name\": \"Missouri\",\\n      \"abbreviation\": \"MO\",\\n      \"area_codes\": [\"314\", \"417\", \"573\", \"636\", \"660\", \"816\"]\\n    },\\n    {\\n      \"name\": \"Montana\",\\n      \"abbreviation\": \"MT\",\\n      \"area_codes\": [\"406\"]\\n    },\\n    {\\n      \"name\": \"Nebraska\",\\n      \"abbreviation\": \"NE\",\\n      \"area_codes\": [\"308\", \"402\", \"531\"]\\n    },\\n    {\\n      \"name\": \"Nevada\",\\n      \"abbreviation\": \"NV\",\\n      \"area_codes\": [\"702\", \"725\", \"775\"]\\n    },\\n    {\\n      \"name\": \"New Hampshire\",\\n      \"abbreviation\": \"NH\",\\n      \"area_codes\": [\"603\"]\\n    },\\n    {\\n      \"name\": \"New Jersey\",\\n      \"abbreviation\": \"NJ\",\\n      \"area_codes\": [\"201\", \"551\", \"609\", \"732\", \"848\", \"856\", \"862\", \"908\", \"973\"]\\n    },\\n    {\\n      \"name\": \"New Mexico\",\\n      \"abbreviation\": \"NM\",\\n      \"area_codes\": [\"505\", \"575\"]\\n    },\\n    {\\n      \"name\": \"New York\",\\n      \"abbreviation\": \"NY\",\\n      \"area_codes\": [\"212\", \"315\", \"332\", \"347\", \"516\", \"518\", \"585\", \"607\", \"631\", \"646\", \"680\", \"716\", \"718\", \"845\", \"914\", \"917\", \"929\", \"934\"]\\n    },\\n    {\\n      \"name\": \"North Carolina\",\\n      \"abbreviation\": \"NC\",\\n      \"area_codes\": [\"252\", \"336\", \"704\", \"743\", \"828\", \"910\", \"919\", \"980\", \"984\"]\\n    },\\n    {\\n      \"name\": \"North Dakota\",\\n      \"abbreviation\": \"ND\",\\n      \"area_codes\": [\"701\"]\\n    },\\n    {\\n      \"name\": \"Ohio\",\\n      \"abbreviation\": \"OH\",\\n      \"area_codes\": [\"216\", \"220\", \"234\", \"330\", \"380\", \"419\", \"440\", \"513\", \"567\", \"614\", \"740\", \"937\"]\\n    },\\n    {\\n      \"name\": \"Oklahoma\",\\n      \"abbreviation\": \"OK\",\\n      \"area_codes\": [\"405\", \"539\", \"580\", \"918\"]\\n    },\\n    {\\n      \"name\": \"Oregon\",\\n      \"abbreviation\": \"OR\",\\n      \"area_codes\": [\"458\", \"503\", \"541\", \"971\"]\\n    },\\n    {\\n      \"name\": \"Pennsylvania\",\\n      \"abbreviation\": \"PA\",\\n      \"area_codes\": [\"215\", \"267\", \"272\", \"412\", \"484\", \"570\", \"610\", \"717\", \"724\", \"814\", \"878\"]\\n    },\\n    {\\n      \"name\": \"Rhode Island\",\\n      \"abbreviation\": \"RI\",\\n      \"area_codes\": [\"401\"]\\n    },\\n    {\\n      \"name\": \"South Carolina\",\\n      \"abbreviation\": \"SC\",\\n      \"area_codes\": [\"803\", \"843\", \"854\", \"864\"]\\n    },\\n    {\\n      \"name\": \"South Dakota\",\\n      \"abbreviation\": \"SD\",\\n      \"area_codes\": [\"605\"]\\n    },\\n    {\\n      \"name\": \"Tennessee\",\\n      \"abbreviation\": \"TN\",\\n      \"area_codes\": [\"423\", \"615\", \"629\", \"731\", \"865\", \"901\", \"931\"]\\n    },\\n    {\\n      \"name\": \"Texas\",\\n      \"abbreviation\": \"TX\",\\n      \"area_codes\": [\"210\", \"214\", \"254\", \"281\", \"325\", \"346\", \"361\", \"409\", \"430\", \"432\", \"469\", \"512\", \"682\", \"713\", \"737\", \"806\", \"817\", \"830\", \"832\", \"903\", \"915\", \"936\", \"940\", \"956\", \"972\", \"979\"]\\n    },\\n    {\\n      \"name\": \"Utah\",\\n      \"abbreviation\": \"UT\",\\n      \"area_codes\": [\"385\", \"435\", \"801\"]\\n    },\\n    {\\n      \"name\": \"Vermont\",\\n      \"abbreviation\": \"VT\",\\n      \"area_codes\": [\"802\"]\\n    },\\n    {\\n      \"name\": \"Virginia\",\\n      \"abbreviation\": \"VA\",\\n      \"area_codes\": [\"276\", \"434\", \"540\", \"571\", \"703\", \"757\", \"804\"]\\n    },\\n    {\\n      \"name\": \"Washington\",\\n      \"abbreviation\": \"WA\",\\n      \"area_codes\": [\"206\", \"253\", \"360\", \"425\", \"509\"]\\n    },\\n    {\\n      \"name\": \"West Virginia\",\\n      \"abbreviation\": \"WV\",\\n      \"area_codes\": [\"304\", \"681\"]\\n    },\\n    {\\n      \"name\": \"Wisconsin\",\\n      \"abbreviation\": \"WI\",\\n      \"area_codes\": [\"262\", \"414\", \"534\", \"608\", \"715\", \"920\"]\\n    },\\n    {\\n      \"name\": \"Wyoming\",\\n      \"abbreviation\": \"WY\",\\n      \"area_codes\": [\"307\"]\\n    }\\n  ]\\n}\\n'"
      ]
     },
     "execution_count": 43,
     "metadata": {},
     "output_type": "execute_result"
    }
   ],
   "source": [
    "jsonData"
   ]
  },
  {
   "cell_type": "code",
   "execution_count": 21,
   "metadata": {
    "scrolled": true
   },
   "outputs": [
    {
     "name": "stdout",
     "output_type": "stream",
     "text": [
      "{'states': [{'name': 'Alabama', 'abbreviation': 'AL', 'area_codes': ['205', '251', '256', '334', '938']}, {'name': 'Alaska', 'abbreviation': 'AK', 'area_codes': ['907']}, {'name': 'Arizona', 'abbreviation': 'AZ', 'area_codes': ['480', '520', '602', '623', '928']}, {'name': 'Arkansas', 'abbreviation': 'AR', 'area_codes': ['479', '501', '870']}, {'name': 'California', 'abbreviation': 'CA', 'area_codes': ['209', '213', '310', '323', '408', '415', '424', '442', '510', '530', '559', '562', '619', '626', '628', '650', '657', '661', '669', '707', '714', '747', '760', '805', '818', '831', '858', '909', '916', '925', '949', '951']}, {'name': 'Colorado', 'abbreviation': 'CO', 'area_codes': ['303', '719', '720', '970']}, {'name': 'Connecticut', 'abbreviation': 'CT', 'area_codes': ['203', '475', '860', '959']}, {'name': 'Delaware', 'abbreviation': 'DE', 'area_codes': ['302']}, {'name': 'Florida', 'abbreviation': 'FL', 'area_codes': ['239', '305', '321', '352', '386', '407', '561', '727', '754', '772', '786', '813', '850', '863', '904', '941', '954']}, {'name': 'Georgia', 'abbreviation': 'GA', 'area_codes': ['229', '404', '470', '478', '678', '706', '762', '770', '912']}, {'name': 'Hawaii', 'abbreviation': 'HI', 'area_codes': ['808']}, {'name': 'Idaho', 'abbreviation': 'ID', 'area_codes': ['208']}, {'name': 'Illinois', 'abbreviation': 'IL', 'area_codes': ['217', '224', '309', '312', '331', '618', '630', '708', '773', '779', '815', '847', '872']}, {'name': 'Indiana', 'abbreviation': 'IN', 'area_codes': ['219', '260', '317', '463', '574', '765', '812', '930']}, {'name': 'Iowa', 'abbreviation': 'IA', 'area_codes': ['319', '515', '563', '641', '712']}, {'name': 'Kansas', 'abbreviation': 'KS', 'area_codes': ['316', '620', '785', '913']}, {'name': 'Kentucky', 'abbreviation': 'KY', 'area_codes': ['270', '364', '502', '606', '859']}, {'name': 'Louisiana', 'abbreviation': 'LA', 'area_codes': ['225', '318', '337', '504', '985']}, {'name': 'Maine', 'abbreviation': 'ME', 'area_codes': ['207']}, {'name': 'Maryland', 'abbreviation': 'MD', 'area_codes': ['240', '301', '410', '443', '667']}, {'name': 'Massachusetts', 'abbreviation': 'MA', 'area_codes': ['339', '351', '413', '508', '617', '774', '781', '857', '978']}, {'name': 'Michigan', 'abbreviation': 'MI', 'area_codes': ['231', '248', '269', '313', '517', '586', '616', '734', '810', '906', '947', '989']}, {'name': 'Minnesota', 'abbreviation': 'MN', 'area_codes': ['218', '320', '507', '612', '651', '763', '952']}, {'name': 'Mississippi', 'abbreviation': 'MS', 'area_codes': ['228', '601', '662', '769']}, {'name': 'Missouri', 'abbreviation': 'MO', 'area_codes': ['314', '417', '573', '636', '660', '816']}, {'name': 'Montana', 'abbreviation': 'MT', 'area_codes': ['406']}, {'name': 'Nebraska', 'abbreviation': 'NE', 'area_codes': ['308', '402', '531']}, {'name': 'Nevada', 'abbreviation': 'NV', 'area_codes': ['702', '725', '775']}, {'name': 'New Hampshire', 'abbreviation': 'NH', 'area_codes': ['603']}, {'name': 'New Jersey', 'abbreviation': 'NJ', 'area_codes': ['201', '551', '609', '732', '848', '856', '862', '908', '973']}, {'name': 'New Mexico', 'abbreviation': 'NM', 'area_codes': ['505', '575']}, {'name': 'New York', 'abbreviation': 'NY', 'area_codes': ['212', '315', '332', '347', '516', '518', '585', '607', '631', '646', '680', '716', '718', '845', '914', '917', '929', '934']}, {'name': 'North Carolina', 'abbreviation': 'NC', 'area_codes': ['252', '336', '704', '743', '828', '910', '919', '980', '984']}, {'name': 'North Dakota', 'abbreviation': 'ND', 'area_codes': ['701']}, {'name': 'Ohio', 'abbreviation': 'OH', 'area_codes': ['216', '220', '234', '330', '380', '419', '440', '513', '567', '614', '740', '937']}, {'name': 'Oklahoma', 'abbreviation': 'OK', 'area_codes': ['405', '539', '580', '918']}, {'name': 'Oregon', 'abbreviation': 'OR', 'area_codes': ['458', '503', '541', '971']}, {'name': 'Pennsylvania', 'abbreviation': 'PA', 'area_codes': ['215', '267', '272', '412', '484', '570', '610', '717', '724', '814', '878']}, {'name': 'Rhode Island', 'abbreviation': 'RI', 'area_codes': ['401']}, {'name': 'South Carolina', 'abbreviation': 'SC', 'area_codes': ['803', '843', '854', '864']}, {'name': 'South Dakota', 'abbreviation': 'SD', 'area_codes': ['605']}, {'name': 'Tennessee', 'abbreviation': 'TN', 'area_codes': ['423', '615', '629', '731', '865', '901', '931']}, {'name': 'Texas', 'abbreviation': 'TX', 'area_codes': ['210', '214', '254', '281', '325', '346', '361', '409', '430', '432', '469', '512', '682', '713', '737', '806', '817', '830', '832', '903', '915', '936', '940', '956', '972', '979']}, {'name': 'Utah', 'abbreviation': 'UT', 'area_codes': ['385', '435', '801']}, {'name': 'Vermont', 'abbreviation': 'VT', 'area_codes': ['802']}, {'name': 'Virginia', 'abbreviation': 'VA', 'area_codes': ['276', '434', '540', '571', '703', '757', '804']}, {'name': 'Washington', 'abbreviation': 'WA', 'area_codes': ['206', '253', '360', '425', '509']}, {'name': 'West Virginia', 'abbreviation': 'WV', 'area_codes': ['304', '681']}, {'name': 'Wisconsin', 'abbreviation': 'WI', 'area_codes': ['262', '414', '534', '608', '715', '920']}, {'name': 'Wyoming', 'abbreviation': 'WY', 'area_codes': ['307']}]}\n"
     ]
    }
   ],
   "source": [
    "print(data)"
   ]
  },
  {
   "cell_type": "code",
   "execution_count": 30,
   "metadata": {},
   "outputs": [
    {
     "data": {
      "text/plain": [
       "list"
      ]
     },
     "execution_count": 30,
     "metadata": {},
     "output_type": "execute_result"
    }
   ],
   "source": [
    "type(data['states'])"
   ]
  },
  {
   "cell_type": "code",
   "execution_count": 31,
   "metadata": {},
   "outputs": [
    {
     "data": {
      "text/plain": [
       "50"
      ]
     },
     "execution_count": 31,
     "metadata": {},
     "output_type": "execute_result"
    }
   ],
   "source": [
    "len(data['states'])"
   ]
  },
  {
   "cell_type": "code",
   "execution_count": 24,
   "metadata": {
    "scrolled": true
   },
   "outputs": [
    {
     "name": "stdout",
     "output_type": "stream",
     "text": [
      "[{'name': 'Alabama', 'abbreviation': 'AL', 'area_codes': ['205', '251', '256', '334', '938']}, {'name': 'Alaska', 'abbreviation': 'AK', 'area_codes': ['907']}, {'name': 'Arizona', 'abbreviation': 'AZ', 'area_codes': ['480', '520', '602', '623', '928']}, {'name': 'Arkansas', 'abbreviation': 'AR', 'area_codes': ['479', '501', '870']}, {'name': 'California', 'abbreviation': 'CA', 'area_codes': ['209', '213', '310', '323', '408', '415', '424', '442', '510', '530', '559', '562', '619', '626', '628', '650', '657', '661', '669', '707', '714', '747', '760', '805', '818', '831', '858', '909', '916', '925', '949', '951']}, {'name': 'Colorado', 'abbreviation': 'CO', 'area_codes': ['303', '719', '720', '970']}, {'name': 'Connecticut', 'abbreviation': 'CT', 'area_codes': ['203', '475', '860', '959']}, {'name': 'Delaware', 'abbreviation': 'DE', 'area_codes': ['302']}, {'name': 'Florida', 'abbreviation': 'FL', 'area_codes': ['239', '305', '321', '352', '386', '407', '561', '727', '754', '772', '786', '813', '850', '863', '904', '941', '954']}, {'name': 'Georgia', 'abbreviation': 'GA', 'area_codes': ['229', '404', '470', '478', '678', '706', '762', '770', '912']}, {'name': 'Hawaii', 'abbreviation': 'HI', 'area_codes': ['808']}, {'name': 'Idaho', 'abbreviation': 'ID', 'area_codes': ['208']}, {'name': 'Illinois', 'abbreviation': 'IL', 'area_codes': ['217', '224', '309', '312', '331', '618', '630', '708', '773', '779', '815', '847', '872']}, {'name': 'Indiana', 'abbreviation': 'IN', 'area_codes': ['219', '260', '317', '463', '574', '765', '812', '930']}, {'name': 'Iowa', 'abbreviation': 'IA', 'area_codes': ['319', '515', '563', '641', '712']}, {'name': 'Kansas', 'abbreviation': 'KS', 'area_codes': ['316', '620', '785', '913']}, {'name': 'Kentucky', 'abbreviation': 'KY', 'area_codes': ['270', '364', '502', '606', '859']}, {'name': 'Louisiana', 'abbreviation': 'LA', 'area_codes': ['225', '318', '337', '504', '985']}, {'name': 'Maine', 'abbreviation': 'ME', 'area_codes': ['207']}, {'name': 'Maryland', 'abbreviation': 'MD', 'area_codes': ['240', '301', '410', '443', '667']}, {'name': 'Massachusetts', 'abbreviation': 'MA', 'area_codes': ['339', '351', '413', '508', '617', '774', '781', '857', '978']}, {'name': 'Michigan', 'abbreviation': 'MI', 'area_codes': ['231', '248', '269', '313', '517', '586', '616', '734', '810', '906', '947', '989']}, {'name': 'Minnesota', 'abbreviation': 'MN', 'area_codes': ['218', '320', '507', '612', '651', '763', '952']}, {'name': 'Mississippi', 'abbreviation': 'MS', 'area_codes': ['228', '601', '662', '769']}, {'name': 'Missouri', 'abbreviation': 'MO', 'area_codes': ['314', '417', '573', '636', '660', '816']}, {'name': 'Montana', 'abbreviation': 'MT', 'area_codes': ['406']}, {'name': 'Nebraska', 'abbreviation': 'NE', 'area_codes': ['308', '402', '531']}, {'name': 'Nevada', 'abbreviation': 'NV', 'area_codes': ['702', '725', '775']}, {'name': 'New Hampshire', 'abbreviation': 'NH', 'area_codes': ['603']}, {'name': 'New Jersey', 'abbreviation': 'NJ', 'area_codes': ['201', '551', '609', '732', '848', '856', '862', '908', '973']}, {'name': 'New Mexico', 'abbreviation': 'NM', 'area_codes': ['505', '575']}, {'name': 'New York', 'abbreviation': 'NY', 'area_codes': ['212', '315', '332', '347', '516', '518', '585', '607', '631', '646', '680', '716', '718', '845', '914', '917', '929', '934']}, {'name': 'North Carolina', 'abbreviation': 'NC', 'area_codes': ['252', '336', '704', '743', '828', '910', '919', '980', '984']}, {'name': 'North Dakota', 'abbreviation': 'ND', 'area_codes': ['701']}, {'name': 'Ohio', 'abbreviation': 'OH', 'area_codes': ['216', '220', '234', '330', '380', '419', '440', '513', '567', '614', '740', '937']}, {'name': 'Oklahoma', 'abbreviation': 'OK', 'area_codes': ['405', '539', '580', '918']}, {'name': 'Oregon', 'abbreviation': 'OR', 'area_codes': ['458', '503', '541', '971']}, {'name': 'Pennsylvania', 'abbreviation': 'PA', 'area_codes': ['215', '267', '272', '412', '484', '570', '610', '717', '724', '814', '878']}, {'name': 'Rhode Island', 'abbreviation': 'RI', 'area_codes': ['401']}, {'name': 'South Carolina', 'abbreviation': 'SC', 'area_codes': ['803', '843', '854', '864']}, {'name': 'South Dakota', 'abbreviation': 'SD', 'area_codes': ['605']}, {'name': 'Tennessee', 'abbreviation': 'TN', 'area_codes': ['423', '615', '629', '731', '865', '901', '931']}, {'name': 'Texas', 'abbreviation': 'TX', 'area_codes': ['210', '214', '254', '281', '325', '346', '361', '409', '430', '432', '469', '512', '682', '713', '737', '806', '817', '830', '832', '903', '915', '936', '940', '956', '972', '979']}, {'name': 'Utah', 'abbreviation': 'UT', 'area_codes': ['385', '435', '801']}, {'name': 'Vermont', 'abbreviation': 'VT', 'area_codes': ['802']}, {'name': 'Virginia', 'abbreviation': 'VA', 'area_codes': ['276', '434', '540', '571', '703', '757', '804']}, {'name': 'Washington', 'abbreviation': 'WA', 'area_codes': ['206', '253', '360', '425', '509']}, {'name': 'West Virginia', 'abbreviation': 'WV', 'area_codes': ['304', '681']}, {'name': 'Wisconsin', 'abbreviation': 'WI', 'area_codes': ['262', '414', '534', '608', '715', '920']}, {'name': 'Wyoming', 'abbreviation': 'WY', 'area_codes': ['307']}]\n"
     ]
    }
   ],
   "source": [
    "print(data['states'])"
   ]
  },
  {
   "cell_type": "code",
   "execution_count": 25,
   "metadata": {
    "scrolled": true
   },
   "outputs": [
    {
     "ename": "TypeError",
     "evalue": "list indices must be integers or slices, not str",
     "output_type": "error",
     "traceback": [
      "\u001b[1;31m---------------------------------------------------------------------------\u001b[0m",
      "\u001b[1;31mTypeError\u001b[0m                                 Traceback (most recent call last)",
      "\u001b[1;32m<ipython-input-25-739bcf00c2d7>\u001b[0m in \u001b[0;36m<module>\u001b[1;34m\u001b[0m\n\u001b[1;32m----> 1\u001b[1;33m \u001b[0mdata\u001b[0m\u001b[1;33m[\u001b[0m\u001b[1;34m'states'\u001b[0m\u001b[1;33m]\u001b[0m\u001b[1;33m[\u001b[0m\u001b[1;34m'name'\u001b[0m\u001b[1;33m]\u001b[0m\u001b[1;33m\u001b[0m\u001b[1;33m\u001b[0m\u001b[0m\n\u001b[0m",
      "\u001b[1;31mTypeError\u001b[0m: list indices must be integers or slices, not str"
     ]
    }
   ],
   "source": [
    "data['states']['name']"
   ]
  },
  {
   "cell_type": "code",
   "execution_count": 26,
   "metadata": {},
   "outputs": [
    {
     "data": {
      "text/plain": [
       "{'name': 'Alabama',\n",
       " 'abbreviation': 'AL',\n",
       " 'area_codes': ['205', '251', '256', '334', '938']}"
      ]
     },
     "execution_count": 26,
     "metadata": {},
     "output_type": "execute_result"
    }
   ],
   "source": [
    "data['states'][0]"
   ]
  },
  {
   "cell_type": "code",
   "execution_count": 27,
   "metadata": {},
   "outputs": [
    {
     "data": {
      "text/plain": [
       "{'name': 'Alaska', 'abbreviation': 'AK', 'area_codes': ['907']}"
      ]
     },
     "execution_count": 27,
     "metadata": {},
     "output_type": "execute_result"
    }
   ],
   "source": [
    "data['states'][1]"
   ]
  },
  {
   "cell_type": "code",
   "execution_count": 29,
   "metadata": {
    "scrolled": false
   },
   "outputs": [
    {
     "name": "stdout",
     "output_type": "stream",
     "text": [
      "Alabama AL\n",
      "Alaska AK\n",
      "Arizona AZ\n",
      "Arkansas AR\n",
      "California CA\n",
      "Colorado CO\n",
      "Connecticut CT\n",
      "Delaware DE\n",
      "Florida FL\n",
      "Georgia GA\n",
      "Hawaii HI\n",
      "Idaho ID\n",
      "Illinois IL\n",
      "Indiana IN\n",
      "Iowa IA\n",
      "Kansas KS\n",
      "Kentucky KY\n",
      "Louisiana LA\n",
      "Maine ME\n",
      "Maryland MD\n",
      "Massachusetts MA\n",
      "Michigan MI\n",
      "Minnesota MN\n",
      "Mississippi MS\n",
      "Missouri MO\n",
      "Montana MT\n",
      "Nebraska NE\n",
      "Nevada NV\n",
      "New Hampshire NH\n",
      "New Jersey NJ\n",
      "New Mexico NM\n",
      "New York NY\n",
      "North Carolina NC\n",
      "North Dakota ND\n",
      "Ohio OH\n",
      "Oklahoma OK\n",
      "Oregon OR\n",
      "Pennsylvania PA\n",
      "Rhode Island RI\n",
      "South Carolina SC\n",
      "South Dakota SD\n",
      "Tennessee TN\n",
      "Texas TX\n",
      "Utah UT\n",
      "Vermont VT\n",
      "Virginia VA\n",
      "Washington WA\n",
      "West Virginia WV\n",
      "Wisconsin WI\n",
      "Wyoming WY\n"
     ]
    }
   ],
   "source": [
    "for state in data['states']:\n",
    "  print(state[\"name\"],state[\"abbreviation\"])"
   ]
  },
  {
   "cell_type": "code",
   "execution_count": 32,
   "metadata": {
    "scrolled": true
   },
   "outputs": [
    {
     "data": {
      "text/plain": [
       "{'states': [{'name': 'Alabama',\n",
       "   'abbreviation': 'AL',\n",
       "   'area_codes': ['205', '251', '256', '334', '938']},\n",
       "  {'name': 'Alaska', 'abbreviation': 'AK', 'area_codes': ['907']},\n",
       "  {'name': 'Arizona',\n",
       "   'abbreviation': 'AZ',\n",
       "   'area_codes': ['480', '520', '602', '623', '928']},\n",
       "  {'name': 'Arkansas',\n",
       "   'abbreviation': 'AR',\n",
       "   'area_codes': ['479', '501', '870']},\n",
       "  {'name': 'California',\n",
       "   'abbreviation': 'CA',\n",
       "   'area_codes': ['209',\n",
       "    '213',\n",
       "    '310',\n",
       "    '323',\n",
       "    '408',\n",
       "    '415',\n",
       "    '424',\n",
       "    '442',\n",
       "    '510',\n",
       "    '530',\n",
       "    '559',\n",
       "    '562',\n",
       "    '619',\n",
       "    '626',\n",
       "    '628',\n",
       "    '650',\n",
       "    '657',\n",
       "    '661',\n",
       "    '669',\n",
       "    '707',\n",
       "    '714',\n",
       "    '747',\n",
       "    '760',\n",
       "    '805',\n",
       "    '818',\n",
       "    '831',\n",
       "    '858',\n",
       "    '909',\n",
       "    '916',\n",
       "    '925',\n",
       "    '949',\n",
       "    '951']},\n",
       "  {'name': 'Colorado',\n",
       "   'abbreviation': 'CO',\n",
       "   'area_codes': ['303', '719', '720', '970']},\n",
       "  {'name': 'Connecticut',\n",
       "   'abbreviation': 'CT',\n",
       "   'area_codes': ['203', '475', '860', '959']},\n",
       "  {'name': 'Delaware', 'abbreviation': 'DE', 'area_codes': ['302']},\n",
       "  {'name': 'Florida',\n",
       "   'abbreviation': 'FL',\n",
       "   'area_codes': ['239',\n",
       "    '305',\n",
       "    '321',\n",
       "    '352',\n",
       "    '386',\n",
       "    '407',\n",
       "    '561',\n",
       "    '727',\n",
       "    '754',\n",
       "    '772',\n",
       "    '786',\n",
       "    '813',\n",
       "    '850',\n",
       "    '863',\n",
       "    '904',\n",
       "    '941',\n",
       "    '954']},\n",
       "  {'name': 'Georgia',\n",
       "   'abbreviation': 'GA',\n",
       "   'area_codes': ['229',\n",
       "    '404',\n",
       "    '470',\n",
       "    '478',\n",
       "    '678',\n",
       "    '706',\n",
       "    '762',\n",
       "    '770',\n",
       "    '912']},\n",
       "  {'name': 'Hawaii', 'abbreviation': 'HI', 'area_codes': ['808']},\n",
       "  {'name': 'Idaho', 'abbreviation': 'ID', 'area_codes': ['208']},\n",
       "  {'name': 'Illinois',\n",
       "   'abbreviation': 'IL',\n",
       "   'area_codes': ['217',\n",
       "    '224',\n",
       "    '309',\n",
       "    '312',\n",
       "    '331',\n",
       "    '618',\n",
       "    '630',\n",
       "    '708',\n",
       "    '773',\n",
       "    '779',\n",
       "    '815',\n",
       "    '847',\n",
       "    '872']},\n",
       "  {'name': 'Indiana',\n",
       "   'abbreviation': 'IN',\n",
       "   'area_codes': ['219', '260', '317', '463', '574', '765', '812', '930']},\n",
       "  {'name': 'Iowa',\n",
       "   'abbreviation': 'IA',\n",
       "   'area_codes': ['319', '515', '563', '641', '712']},\n",
       "  {'name': 'Kansas',\n",
       "   'abbreviation': 'KS',\n",
       "   'area_codes': ['316', '620', '785', '913']},\n",
       "  {'name': 'Kentucky',\n",
       "   'abbreviation': 'KY',\n",
       "   'area_codes': ['270', '364', '502', '606', '859']},\n",
       "  {'name': 'Louisiana',\n",
       "   'abbreviation': 'LA',\n",
       "   'area_codes': ['225', '318', '337', '504', '985']},\n",
       "  {'name': 'Maine', 'abbreviation': 'ME', 'area_codes': ['207']},\n",
       "  {'name': 'Maryland',\n",
       "   'abbreviation': 'MD',\n",
       "   'area_codes': ['240', '301', '410', '443', '667']},\n",
       "  {'name': 'Massachusetts',\n",
       "   'abbreviation': 'MA',\n",
       "   'area_codes': ['339',\n",
       "    '351',\n",
       "    '413',\n",
       "    '508',\n",
       "    '617',\n",
       "    '774',\n",
       "    '781',\n",
       "    '857',\n",
       "    '978']},\n",
       "  {'name': 'Michigan',\n",
       "   'abbreviation': 'MI',\n",
       "   'area_codes': ['231',\n",
       "    '248',\n",
       "    '269',\n",
       "    '313',\n",
       "    '517',\n",
       "    '586',\n",
       "    '616',\n",
       "    '734',\n",
       "    '810',\n",
       "    '906',\n",
       "    '947',\n",
       "    '989']},\n",
       "  {'name': 'Minnesota',\n",
       "   'abbreviation': 'MN',\n",
       "   'area_codes': ['218', '320', '507', '612', '651', '763', '952']},\n",
       "  {'name': 'Mississippi',\n",
       "   'abbreviation': 'MS',\n",
       "   'area_codes': ['228', '601', '662', '769']},\n",
       "  {'name': 'Missouri',\n",
       "   'abbreviation': 'MO',\n",
       "   'area_codes': ['314', '417', '573', '636', '660', '816']},\n",
       "  {'name': 'Montana', 'abbreviation': 'MT', 'area_codes': ['406']},\n",
       "  {'name': 'Nebraska',\n",
       "   'abbreviation': 'NE',\n",
       "   'area_codes': ['308', '402', '531']},\n",
       "  {'name': 'Nevada',\n",
       "   'abbreviation': 'NV',\n",
       "   'area_codes': ['702', '725', '775']},\n",
       "  {'name': 'New Hampshire', 'abbreviation': 'NH', 'area_codes': ['603']},\n",
       "  {'name': 'New Jersey',\n",
       "   'abbreviation': 'NJ',\n",
       "   'area_codes': ['201',\n",
       "    '551',\n",
       "    '609',\n",
       "    '732',\n",
       "    '848',\n",
       "    '856',\n",
       "    '862',\n",
       "    '908',\n",
       "    '973']},\n",
       "  {'name': 'New Mexico', 'abbreviation': 'NM', 'area_codes': ['505', '575']},\n",
       "  {'name': 'New York',\n",
       "   'abbreviation': 'NY',\n",
       "   'area_codes': ['212',\n",
       "    '315',\n",
       "    '332',\n",
       "    '347',\n",
       "    '516',\n",
       "    '518',\n",
       "    '585',\n",
       "    '607',\n",
       "    '631',\n",
       "    '646',\n",
       "    '680',\n",
       "    '716',\n",
       "    '718',\n",
       "    '845',\n",
       "    '914',\n",
       "    '917',\n",
       "    '929',\n",
       "    '934']},\n",
       "  {'name': 'North Carolina',\n",
       "   'abbreviation': 'NC',\n",
       "   'area_codes': ['252',\n",
       "    '336',\n",
       "    '704',\n",
       "    '743',\n",
       "    '828',\n",
       "    '910',\n",
       "    '919',\n",
       "    '980',\n",
       "    '984']},\n",
       "  {'name': 'North Dakota', 'abbreviation': 'ND', 'area_codes': ['701']},\n",
       "  {'name': 'Ohio',\n",
       "   'abbreviation': 'OH',\n",
       "   'area_codes': ['216',\n",
       "    '220',\n",
       "    '234',\n",
       "    '330',\n",
       "    '380',\n",
       "    '419',\n",
       "    '440',\n",
       "    '513',\n",
       "    '567',\n",
       "    '614',\n",
       "    '740',\n",
       "    '937']},\n",
       "  {'name': 'Oklahoma',\n",
       "   'abbreviation': 'OK',\n",
       "   'area_codes': ['405', '539', '580', '918']},\n",
       "  {'name': 'Oregon',\n",
       "   'abbreviation': 'OR',\n",
       "   'area_codes': ['458', '503', '541', '971']},\n",
       "  {'name': 'Pennsylvania',\n",
       "   'abbreviation': 'PA',\n",
       "   'area_codes': ['215',\n",
       "    '267',\n",
       "    '272',\n",
       "    '412',\n",
       "    '484',\n",
       "    '570',\n",
       "    '610',\n",
       "    '717',\n",
       "    '724',\n",
       "    '814',\n",
       "    '878']},\n",
       "  {'name': 'Rhode Island', 'abbreviation': 'RI', 'area_codes': ['401']},\n",
       "  {'name': 'South Carolina',\n",
       "   'abbreviation': 'SC',\n",
       "   'area_codes': ['803', '843', '854', '864']},\n",
       "  {'name': 'South Dakota', 'abbreviation': 'SD', 'area_codes': ['605']},\n",
       "  {'name': 'Tennessee',\n",
       "   'abbreviation': 'TN',\n",
       "   'area_codes': ['423', '615', '629', '731', '865', '901', '931']},\n",
       "  {'name': 'Texas',\n",
       "   'abbreviation': 'TX',\n",
       "   'area_codes': ['210',\n",
       "    '214',\n",
       "    '254',\n",
       "    '281',\n",
       "    '325',\n",
       "    '346',\n",
       "    '361',\n",
       "    '409',\n",
       "    '430',\n",
       "    '432',\n",
       "    '469',\n",
       "    '512',\n",
       "    '682',\n",
       "    '713',\n",
       "    '737',\n",
       "    '806',\n",
       "    '817',\n",
       "    '830',\n",
       "    '832',\n",
       "    '903',\n",
       "    '915',\n",
       "    '936',\n",
       "    '940',\n",
       "    '956',\n",
       "    '972',\n",
       "    '979']},\n",
       "  {'name': 'Utah', 'abbreviation': 'UT', 'area_codes': ['385', '435', '801']},\n",
       "  {'name': 'Vermont', 'abbreviation': 'VT', 'area_codes': ['802']},\n",
       "  {'name': 'Virginia',\n",
       "   'abbreviation': 'VA',\n",
       "   'area_codes': ['276', '434', '540', '571', '703', '757', '804']},\n",
       "  {'name': 'Washington',\n",
       "   'abbreviation': 'WA',\n",
       "   'area_codes': ['206', '253', '360', '425', '509']},\n",
       "  {'name': 'West Virginia',\n",
       "   'abbreviation': 'WV',\n",
       "   'area_codes': ['304', '681']},\n",
       "  {'name': 'Wisconsin',\n",
       "   'abbreviation': 'WI',\n",
       "   'area_codes': ['262', '414', '534', '608', '715', '920']},\n",
       "  {'name': 'Wyoming', 'abbreviation': 'WY', 'area_codes': ['307']}]}"
      ]
     },
     "execution_count": 32,
     "metadata": {},
     "output_type": "execute_result"
    }
   ],
   "source": [
    "data"
   ]
  },
  {
   "cell_type": "code",
   "execution_count": null,
   "metadata": {},
   "outputs": [],
   "source": []
  },
  {
   "cell_type": "code",
   "execution_count": 34,
   "metadata": {},
   "outputs": [],
   "source": [
    "for i in data['states']:\n",
    "    del i[\"area_codes\"]"
   ]
  },
  {
   "cell_type": "code",
   "execution_count": 35,
   "metadata": {
    "scrolled": true
   },
   "outputs": [
    {
     "data": {
      "text/plain": [
       "{'states': [{'name': 'Alabama', 'abbreviation': 'AL'},\n",
       "  {'name': 'Alaska', 'abbreviation': 'AK'},\n",
       "  {'name': 'Arizona', 'abbreviation': 'AZ'},\n",
       "  {'name': 'Arkansas', 'abbreviation': 'AR'},\n",
       "  {'name': 'California', 'abbreviation': 'CA'},\n",
       "  {'name': 'Colorado', 'abbreviation': 'CO'},\n",
       "  {'name': 'Connecticut', 'abbreviation': 'CT'},\n",
       "  {'name': 'Delaware', 'abbreviation': 'DE'},\n",
       "  {'name': 'Florida', 'abbreviation': 'FL'},\n",
       "  {'name': 'Georgia', 'abbreviation': 'GA'},\n",
       "  {'name': 'Hawaii', 'abbreviation': 'HI'},\n",
       "  {'name': 'Idaho', 'abbreviation': 'ID'},\n",
       "  {'name': 'Illinois', 'abbreviation': 'IL'},\n",
       "  {'name': 'Indiana', 'abbreviation': 'IN'},\n",
       "  {'name': 'Iowa', 'abbreviation': 'IA'},\n",
       "  {'name': 'Kansas', 'abbreviation': 'KS'},\n",
       "  {'name': 'Kentucky', 'abbreviation': 'KY'},\n",
       "  {'name': 'Louisiana', 'abbreviation': 'LA'},\n",
       "  {'name': 'Maine', 'abbreviation': 'ME'},\n",
       "  {'name': 'Maryland', 'abbreviation': 'MD'},\n",
       "  {'name': 'Massachusetts', 'abbreviation': 'MA'},\n",
       "  {'name': 'Michigan', 'abbreviation': 'MI'},\n",
       "  {'name': 'Minnesota', 'abbreviation': 'MN'},\n",
       "  {'name': 'Mississippi', 'abbreviation': 'MS'},\n",
       "  {'name': 'Missouri', 'abbreviation': 'MO'},\n",
       "  {'name': 'Montana', 'abbreviation': 'MT'},\n",
       "  {'name': 'Nebraska', 'abbreviation': 'NE'},\n",
       "  {'name': 'Nevada', 'abbreviation': 'NV'},\n",
       "  {'name': 'New Hampshire', 'abbreviation': 'NH'},\n",
       "  {'name': 'New Jersey', 'abbreviation': 'NJ'},\n",
       "  {'name': 'New Mexico', 'abbreviation': 'NM'},\n",
       "  {'name': 'New York', 'abbreviation': 'NY'},\n",
       "  {'name': 'North Carolina', 'abbreviation': 'NC'},\n",
       "  {'name': 'North Dakota', 'abbreviation': 'ND'},\n",
       "  {'name': 'Ohio', 'abbreviation': 'OH'},\n",
       "  {'name': 'Oklahoma', 'abbreviation': 'OK'},\n",
       "  {'name': 'Oregon', 'abbreviation': 'OR'},\n",
       "  {'name': 'Pennsylvania', 'abbreviation': 'PA'},\n",
       "  {'name': 'Rhode Island', 'abbreviation': 'RI'},\n",
       "  {'name': 'South Carolina', 'abbreviation': 'SC'},\n",
       "  {'name': 'South Dakota', 'abbreviation': 'SD'},\n",
       "  {'name': 'Tennessee', 'abbreviation': 'TN'},\n",
       "  {'name': 'Texas', 'abbreviation': 'TX'},\n",
       "  {'name': 'Utah', 'abbreviation': 'UT'},\n",
       "  {'name': 'Vermont', 'abbreviation': 'VT'},\n",
       "  {'name': 'Virginia', 'abbreviation': 'VA'},\n",
       "  {'name': 'Washington', 'abbreviation': 'WA'},\n",
       "  {'name': 'West Virginia', 'abbreviation': 'WV'},\n",
       "  {'name': 'Wisconsin', 'abbreviation': 'WI'},\n",
       "  {'name': 'Wyoming', 'abbreviation': 'WY'}]}"
      ]
     },
     "execution_count": 35,
     "metadata": {},
     "output_type": "execute_result"
    }
   ],
   "source": [
    "data"
   ]
  },
  {
   "cell_type": "code",
   "execution_count": 36,
   "metadata": {},
   "outputs": [
    {
     "data": {
      "text/plain": [
       "dict"
      ]
     },
     "execution_count": 36,
     "metadata": {},
     "output_type": "execute_result"
    }
   ],
   "source": [
    "type(data)"
   ]
  },
  {
   "cell_type": "code",
   "execution_count": 37,
   "metadata": {},
   "outputs": [],
   "source": [
    "with open('data/new_states.json', 'w') as pyfile:\n",
    "  json.dump(data, pyfile, indent=2)"
   ]
  }
 ],
 "metadata": {
  "kernelspec": {
   "display_name": "Python 3",
   "language": "python",
   "name": "python3"
  },
  "language_info": {
   "codemirror_mode": {
    "name": "ipython",
    "version": 3
   },
   "file_extension": ".py",
   "mimetype": "text/x-python",
   "name": "python",
   "nbconvert_exporter": "python",
   "pygments_lexer": "ipython3",
   "version": "3.8.5"
  }
 },
 "nbformat": 4,
 "nbformat_minor": 4
}
