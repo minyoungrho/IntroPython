{
 "cells": [
  {
   "cell_type": "markdown",
   "metadata": {},
   "source": [
    "## Scoreboard"
   ]
  },
  {
   "cell_type": "markdown",
   "metadata": {},
   "source": [
    "INSTRUCTIONS:\n",
    "For this exercise we will work with a\n",
    "\"scoreboard\" for an imaginary game.\n",
    "You will be required to write functions\n",
    "that operate on the \"scoreboard\" data\n",
    "structure and compute certain results."
   ]
  },
  {
   "cell_type": "markdown",
   "metadata": {},
   "source": [
    "For these functions, the \"scoreboard\"\n",
    "will be a list of tuples, where each\n",
    "tuple is of the form (str, int)\n",
    "representing (player_name, score)\n",
    "\n",
    "For example:\n",
    "[('kewld00d1', 100), ('pumpkin', 550)]"
   ]
  },
  {
   "cell_type": "markdown",
   "metadata": {},
   "source": [
    "#### get_scores\n",
    "Create a function \"get_scores\"\n",
    "that has one parameter, the scoreboard,\n",
    "and returns a list of the same size\n",
    "with just the scores for each player\n",
    "(a list of ints)"
   ]
  },
  {
   "cell_type": "code",
   "execution_count": 8,
   "metadata": {},
   "outputs": [],
   "source": [
    "scoreboard_test = [('kewld00d1', 100), ('pumpkin', 550),('Ula',200)]"
   ]
  },
  {
   "cell_type": "code",
   "execution_count": 38,
   "metadata": {},
   "outputs": [
    {
     "name": "stdout",
     "output_type": "stream",
     "text": [
      "('kewld00d1', 100)\n",
      "('pumpkin', 550)\n",
      "('Ula', 200)\n"
     ]
    }
   ],
   "source": [
    "for datapoint in scoreboard_test:\n",
    "    print(datapoint)"
   ]
  },
  {
   "cell_type": "code",
   "execution_count": 39,
   "metadata": {},
   "outputs": [
    {
     "name": "stdout",
     "output_type": "stream",
     "text": [
      "kewld00d1\n",
      "pumpkin\n",
      "Ula\n"
     ]
    }
   ],
   "source": [
    "for datapoint in scoreboard_test:\n",
    "    print(datapoint[0])"
   ]
  },
  {
   "cell_type": "code",
   "execution_count": 40,
   "metadata": {},
   "outputs": [
    {
     "name": "stdout",
     "output_type": "stream",
     "text": [
      "100\n",
      "550\n",
      "200\n"
     ]
    }
   ],
   "source": [
    "for datapoint in scoreboard_test:\n",
    "    print(datapoint[1])"
   ]
  },
  {
   "cell_type": "code",
   "execution_count": 14,
   "metadata": {},
   "outputs": [],
   "source": [
    "def get_scores(scoreboard):\n",
    "    scores=[]\n",
    "    for datapoint in scoreboard:\n",
    "        scores.append(datapoint[1])       \n",
    "    return scores"
   ]
  },
  {
   "cell_type": "code",
   "execution_count": 15,
   "metadata": {},
   "outputs": [
    {
     "data": {
      "text/plain": [
       "[100, 550, 200]"
      ]
     },
     "execution_count": 15,
     "metadata": {},
     "output_type": "execute_result"
    }
   ],
   "source": [
    "get_scores(scoreboard_test)"
   ]
  },
  {
   "cell_type": "markdown",
   "metadata": {},
   "source": [
    "#### top_score\n",
    "\n",
    "Create a function \"top_score\"\n",
    "that has one parameter, the scoreboard,\n",
    "and returns an int, the highest score\n",
    "on the scoreboard"
   ]
  },
  {
   "cell_type": "code",
   "execution_count": 16,
   "metadata": {},
   "outputs": [],
   "source": [
    "def top_score(scoreboard):\n",
    "    scores=[]\n",
    "    for datapoint in scoreboard:\n",
    "        scores.append(datapoint[1])       \n",
    "\n",
    "    return max(scores)"
   ]
  },
  {
   "cell_type": "code",
   "execution_count": 17,
   "metadata": {},
   "outputs": [
    {
     "data": {
      "text/plain": [
       "550"
      ]
     },
     "execution_count": 17,
     "metadata": {},
     "output_type": "execute_result"
    }
   ],
   "source": [
    "top_score(scoreboard_test)"
   ]
  },
  {
   "cell_type": "markdown",
   "metadata": {},
   "source": [
    "#### top_player\n",
    "Create a function \"top_player\"\n",
    "that has one parameter, the scoreboard,\n",
    "and returns the player_name that has\n",
    "the highest score"
   ]
  },
  {
   "cell_type": "code",
   "execution_count": 50,
   "metadata": {},
   "outputs": [],
   "source": [
    "scoreboard_test = [('kewld00d1', 100,\"Female\"), ('pumpkin', 550,\"Male\"),('Ula',200,\"Female\")]"
   ]
  },
  {
   "cell_type": "code",
   "execution_count": 35,
   "metadata": {},
   "outputs": [
    {
     "name": "stdout",
     "output_type": "stream",
     "text": [
      "['kewld00d1', 'pumpkin', 'Ula']\n"
     ]
    }
   ],
   "source": [
    "players=[]\n",
    "for datapoint in scoreboard_test:\n",
    "    players.append(datapoint[0])\n",
    "print(players)"
   ]
  },
  {
   "cell_type": "code",
   "execution_count": 37,
   "metadata": {
    "scrolled": true
   },
   "outputs": [
    {
     "name": "stdout",
     "output_type": "stream",
     "text": [
      "[100, 550, 200]\n"
     ]
    }
   ],
   "source": [
    "scores=[]\n",
    "for datapoint in scoreboard_test:\n",
    "    scores.append(datapoint[1])\n",
    "print(scores)"
   ]
  },
  {
   "cell_type": "code",
   "execution_count": 51,
   "metadata": {},
   "outputs": [
    {
     "name": "stdout",
     "output_type": "stream",
     "text": [
      "['Female', 'Male', 'Female']\n"
     ]
    }
   ],
   "source": [
    "gender=[]\n",
    "for datapoint in scoreboard_test:\n",
    "    gender.append(datapoint[2])\n",
    "print(gender)"
   ]
  },
  {
   "cell_type": "code",
   "execution_count": 42,
   "metadata": {},
   "outputs": [
    {
     "data": {
      "text/plain": [
       "1"
      ]
     },
     "execution_count": 42,
     "metadata": {},
     "output_type": "execute_result"
    }
   ],
   "source": [
    "scores.index(max(scores))"
   ]
  },
  {
   "cell_type": "code",
   "execution_count": 44,
   "metadata": {},
   "outputs": [
    {
     "data": {
      "text/plain": [
       "1"
      ]
     },
     "execution_count": 44,
     "metadata": {},
     "output_type": "execute_result"
    }
   ],
   "source": [
    "scores.index(550)"
   ]
  },
  {
   "cell_type": "code",
   "execution_count": 43,
   "metadata": {},
   "outputs": [
    {
     "data": {
      "text/plain": [
       "550"
      ]
     },
     "execution_count": 43,
     "metadata": {},
     "output_type": "execute_result"
    }
   ],
   "source": [
    "max(scores)"
   ]
  },
  {
   "cell_type": "code",
   "execution_count": 45,
   "metadata": {},
   "outputs": [
    {
     "data": {
      "text/plain": [
       "'pumpkin'"
      ]
     },
     "execution_count": 45,
     "metadata": {},
     "output_type": "execute_result"
    }
   ],
   "source": [
    "players[scores.index(max(scores))]"
   ]
  },
  {
   "cell_type": "code",
   "execution_count": 48,
   "metadata": {},
   "outputs": [],
   "source": [
    "def top_player(scoreboard):\n",
    "    \n",
    "    players=[]\n",
    "    for datapoint in scoreboard_test:\n",
    "        players.append(datapoint[0])\n",
    "    \n",
    "    scores=[]\n",
    "    for datapoint in scoreboard_test:\n",
    "        scores.append(datapoint[1])\n",
    "    \n",
    "    return players[scores.index(max(scores))]"
   ]
  },
  {
   "cell_type": "code",
   "execution_count": 47,
   "metadata": {},
   "outputs": [
    {
     "data": {
      "text/plain": [
       "'pumpkin'"
      ]
     },
     "execution_count": 47,
     "metadata": {},
     "output_type": "execute_result"
    }
   ],
   "source": [
    "top_player(scoreboard_test)"
   ]
  },
  {
   "cell_type": "markdown",
   "metadata": {},
   "source": [
    "Now, the \"scoreboard\"\n",
    "will be a list of dictionaries, where each\n",
    "dictionary represents information\n",
    "about a single player.\n",
    "\n",
    "The keys of the dictionary are:\n",
    "\"player\", \"score\", \"country\", \"levels\"\n",
    "\n",
    "For example, one dictionary:\n",
    "\n",
    "{\n",
    "   'player': 'tr0llhuntah',\n",
    "   'score': 200,\n",
    "   'country': 'no',\n",
    "   'levels': ['Choco Mountain', 'Rainbow Road']\n",
    "}"
   ]
  },
  {
   "cell_type": "markdown",
   "metadata": {},
   "source": [
    "#### top_player_from_dict\n",
    "Create a function \"top_player_from_dict\"\n",
    "that has one parameter, the scoreboard,\n",
    "and returns the player_name that has\n",
    "the highest score"
   ]
  },
  {
   "cell_type": "code",
   "execution_count": 19,
   "metadata": {},
   "outputs": [],
   "source": [
    "def top_player_from_dict(scoresboard):\n",
    "    \n",
    "    scores=[]\n",
    "    for datapoint in scoreboard_dict_test:\n",
    "        scores.append(datapoint['score'])\n",
    "\n",
    "    players=[]\n",
    "    for datapoint in scoreboard_dict_test:\n",
    "        players.append(datapoint['player'])\n",
    "        \n",
    "    return players[scores.index(max(scores))]"
   ]
  },
  {
   "cell_type": "code",
   "execution_count": 28,
   "metadata": {},
   "outputs": [],
   "source": [
    "scoreboard_dict_test = [{ 'player': 'tr0llhuntah',\n",
    "                        'score': 200, \n",
    "                        'country': 'no', \n",
    "                        'levels': ['Choco Mountain', 'Rainbow Road'] },\n",
    "                        {'player': 'Assiatu',\n",
    "                        'score': 250, \n",
    "                        'country': 'sl', \n",
    "                        'levels': ['Choco Mountain', 'Rainbow Road','Cookie Street'] },\n",
    "                       {'player': 'mr293',\n",
    "                        'score': 300, \n",
    "                        'country': 'sl', \n",
    "                        'levels': ['Rainbow Road'] }]"
   ]
  },
  {
   "cell_type": "code",
   "execution_count": 29,
   "metadata": {},
   "outputs": [
    {
     "data": {
      "text/plain": [
       "'mr293'"
      ]
     },
     "execution_count": 29,
     "metadata": {},
     "output_type": "execute_result"
    }
   ],
   "source": [
    "top_player_from_dict(scoreboard_dict_test)"
   ]
  },
  {
   "cell_type": "markdown",
   "metadata": {},
   "source": [
    "#### get_good_players\n",
    "Create a function \"get_good_players\"\n",
    "that has two parameters:\n",
    "1. scoreboard\n",
    "2. an int (limit)\n",
    "\n",
    "\"get_good_players\" returns a list of\n",
    "strings, with the names of the players\n",
    "who have a score greater than or equal to\n",
    "limit."
   ]
  },
  {
   "cell_type": "code",
   "execution_count": 24,
   "metadata": {},
   "outputs": [],
   "source": [
    "def get_good_players(scoreboard,limit):\n",
    "    \n",
    "    scoreboard\n",
    "        \n",
    "    scores=[]\n",
    "    for datapoint in scoreboard_dict_test:\n",
    "        scores.append(datapoint['score'])\n",
    "\n",
    "    players=[]\n",
    "    for datapoint in scoreboard_dict_test:\n",
    "        players.append(datapoint['player'])\n",
    "        \n",
    "    good_players = []\n",
    "    for i in range(len(scores)):\n",
    "        if scores[i]>=limit:\n",
    "            good_players.append(players[i])\n",
    "        \n",
    "    return good_players"
   ]
  },
  {
   "cell_type": "code",
   "execution_count": 25,
   "metadata": {},
   "outputs": [],
   "source": [
    "scoreboard_dict_test = [{ 'player': 'tr0llhuntah',\n",
    "                        'score': 200, \n",
    "                        'country': 'no', \n",
    "                        'levels': ['Choco Mountain', 'Rainbow Road'] },\n",
    "                        {'player': 'Assiatu',\n",
    "                        'score': 250, \n",
    "                        'country': 'sl', \n",
    "                        'levels': ['Choco Mountain', 'Rainbow Road','Cookie Street'] },\n",
    "                       {'player': 'mr293',\n",
    "                        'score': 300, \n",
    "                        'country': 'sl', \n",
    "                        'levels': ['Rainbow Road'] }]"
   ]
  },
  {
   "cell_type": "code",
   "execution_count": 26,
   "metadata": {},
   "outputs": [
    {
     "data": {
      "text/plain": [
       "['tr0llhuntah', 'Assiatu', 'mr293']"
      ]
     },
     "execution_count": 26,
     "metadata": {},
     "output_type": "execute_result"
    }
   ],
   "source": [
    "get_good_players(scoreboard_dict_test,190)"
   ]
  },
  {
   "cell_type": "code",
   "execution_count": 27,
   "metadata": {},
   "outputs": [
    {
     "data": {
      "text/plain": [
       "['Assiatu', 'mr293']"
      ]
     },
     "execution_count": 27,
     "metadata": {},
     "output_type": "execute_result"
    }
   ],
   "source": [
    "get_good_players(scoreboard_dict_test,220)"
   ]
  },
  {
   "cell_type": "markdown",
   "metadata": {},
   "source": [
    "#### top_player_by_country\n",
    "\n",
    "Create a function \"top_player_by_country\"\n",
    "that has two parameters:\n",
    "1. scoreboard\n",
    "2. a string (country)\n",
    "\n",
    "\"top_player_by_country\" returns a string\n",
    "with the name of the player with the highest\n",
    "score in the provided country."
   ]
  },
  {
   "cell_type": "code",
   "execution_count": 38,
   "metadata": {},
   "outputs": [],
   "source": [
    "temp = ['sl','es']"
   ]
  },
  {
   "cell_type": "code",
   "execution_count": 40,
   "metadata": {},
   "outputs": [
    {
     "data": {
      "text/plain": [
       "True"
      ]
     },
     "execution_count": 40,
     "metadata": {},
     "output_type": "execute_result"
    }
   ],
   "source": [
    "temp[0]=='sl'"
   ]
  },
  {
   "cell_type": "code",
   "execution_count": 39,
   "metadata": {},
   "outputs": [
    {
     "ename": "TypeError",
     "evalue": "'list' object cannot be interpreted as an integer",
     "output_type": "error",
     "traceback": [
      "\u001b[1;31m---------------------------------------------------------------------------\u001b[0m",
      "\u001b[1;31mTypeError\u001b[0m                                 Traceback (most recent call last)",
      "\u001b[1;32m<ipython-input-39-23f19ce3c481>\u001b[0m in \u001b[0;36m<module>\u001b[1;34m\u001b[0m\n\u001b[1;32m----> 1\u001b[1;33m \u001b[1;33m[\u001b[0m\u001b[0mi\u001b[0m \u001b[1;32mfor\u001b[0m \u001b[0mi\u001b[0m \u001b[1;32min\u001b[0m \u001b[0mrange\u001b[0m\u001b[1;33m(\u001b[0m\u001b[0mtemp\u001b[0m\u001b[1;33m)\u001b[0m \u001b[1;32mif\u001b[0m \u001b[0mtemp\u001b[0m\u001b[1;33m[\u001b[0m\u001b[0mi\u001b[0m\u001b[1;33m]\u001b[0m \u001b[1;33m==\u001b[0m \u001b[1;34m'sl'\u001b[0m\u001b[1;33m]\u001b[0m\u001b[1;33m\u001b[0m\u001b[1;33m\u001b[0m\u001b[0m\n\u001b[0m",
      "\u001b[1;31mTypeError\u001b[0m: 'list' object cannot be interpreted as an integer"
     ]
    }
   ],
   "source": [
    "[i for i in range(len(temp) if temp[i] == 'sl']"
   ]
  },
  {
   "cell_type": "code",
   "execution_count": 51,
   "metadata": {},
   "outputs": [],
   "source": [
    "def top_player_by_country(scoreboard,country):       \n",
    "        \n",
    "    scores=[]\n",
    "    for datapoint in scoreboard_dict_test:\n",
    "        scores.append(datapoint['score'])\n",
    "\n",
    "    players=[]\n",
    "    for datapoint in scoreboard_dict_test:\n",
    "        players.append(datapoint['player'])\n",
    "        \n",
    "    countries=[]\n",
    "    for datapoint in scoreboard_dict_test:\n",
    "        countries.append(datapoint['country']) \n",
    "        \n",
    "    country_scores = [scores[i] for i in range(len(countries)) if countries[i] == country]\n",
    "    country_players = [players[i] for i in range(len(players)) if countries[i] == country]\n",
    "        \n",
    "    return country_players[country_scores.index(max(country_scores))]"
   ]
  },
  {
   "cell_type": "code",
   "execution_count": 32,
   "metadata": {},
   "outputs": [],
   "source": [
    "scoreboard_dict_test = [{ 'player': 'tr0llhuntah',\n",
    "                        'score': 400, \n",
    "                        'country': 'no', \n",
    "                        'levels': ['Choco Mountain', 'Rainbow Road'] },\n",
    "                        {'player': 'Assiatu',\n",
    "                        'score': 250, \n",
    "                        'country': 'sl', \n",
    "                        'levels': ['Choco Mountain', 'Rainbow Road','Cookie Street'] },\n",
    "                       {'player': 'mr293',\n",
    "                        'score': 300, \n",
    "                        'country': 'sl', \n",
    "                        'levels': ['Rainbow Road'] }]"
   ]
  },
  {
   "cell_type": "code",
   "execution_count": 52,
   "metadata": {
    "scrolled": true
   },
   "outputs": [
    {
     "data": {
      "text/plain": [
       "'mr293'"
      ]
     },
     "execution_count": 52,
     "metadata": {},
     "output_type": "execute_result"
    }
   ],
   "source": [
    "top_player_by_country(scoreboard_dict_test,'sl')"
   ]
  },
  {
   "cell_type": "markdown",
   "metadata": {},
   "source": [
    "#### most_levels_played\n",
    "\n",
    "Create a function \"most_levels_played\"\n",
    "that has one parameter: \"scoreboard\".\n",
    "and returns a tuple (str, int) with the name of\n",
    "the player that has played the most levels\n",
    "and the number of levels they played"
   ]
  },
  {
   "cell_type": "code",
   "execution_count": 59,
   "metadata": {},
   "outputs": [],
   "source": [
    "def most_levels_played(scoreboard):       \n",
    "\n",
    "    players=[]\n",
    "    for datapoint in scoreboard_dict_test:\n",
    "        players.append(datapoint['player'])\n",
    "        \n",
    "    levels_length=[]\n",
    "    for datapoint in scoreboard_dict_test:\n",
    "        levels_length.append(len(datapoint['levels']))\n",
    "        \n",
    "    return (players[levels_length.index(max(levels_length))],max(levels_length))"
   ]
  },
  {
   "cell_type": "code",
   "execution_count": 58,
   "metadata": {},
   "outputs": [],
   "source": [
    "scoreboard_dict_test = [{ 'player': 'tr0llhuntah',\n",
    "                        'score': 400, \n",
    "                        'country': 'no', \n",
    "                        'levels': ['Choco Mountain', 'Rainbow Road'] },\n",
    "                        {'player': 'Assiatu',\n",
    "                        'score': 250, \n",
    "                        'country': 'sl', \n",
    "                        'levels': ['Choco Mountain', 'Rainbow Road','Cookie Street'] },\n",
    "                       {'player': 'mr293',\n",
    "                        'score': 300, \n",
    "                        'country': 'sl', \n",
    "                        'levels': ['Rainbow Road'] }]"
   ]
  },
  {
   "cell_type": "code",
   "execution_count": 60,
   "metadata": {},
   "outputs": [
    {
     "data": {
      "text/plain": [
       "('Assiatu', 3)"
      ]
     },
     "execution_count": 60,
     "metadata": {},
     "output_type": "execute_result"
    }
   ],
   "source": [
    "most_levels_played(scoreboard_dict_test)"
   ]
  },
  {
   "cell_type": "markdown",
   "metadata": {},
   "source": [
    "#### played_levels\n",
    "Create a function \"played_levels\"\n",
    "that has one parameter: \"scoreboard\".\n",
    "and returns a list of strings with the\n",
    "names of all the levels that have been\n",
    "played by any user.\n",
    "\n",
    "The list of levels can have duplicates."
   ]
  },
  {
   "cell_type": "code",
   "execution_count": 71,
   "metadata": {},
   "outputs": [],
   "source": [
    "def played_levels(scoreboard):       \n",
    "        \n",
    "    levels=[]\n",
    "    for datapoint in scoreboard_dict_test:\n",
    "        levels.extend(datapoint['levels'])\n",
    "        \n",
    "    return list(set(levels))"
   ]
  },
  {
   "cell_type": "code",
   "execution_count": 72,
   "metadata": {},
   "outputs": [
    {
     "data": {
      "text/plain": [
       "['Cookie Street', 'Choco Mountain', 'Rainbow Road']"
      ]
     },
     "execution_count": 72,
     "metadata": {},
     "output_type": "execute_result"
    }
   ],
   "source": [
    "played_levels(scoreboard_dict_test)"
   ]
  }
 ],
 "metadata": {
  "kernelspec": {
   "display_name": "Python 3",
   "language": "python",
   "name": "python3"
  },
  "language_info": {
   "codemirror_mode": {
    "name": "ipython",
    "version": 3
   },
   "file_extension": ".py",
   "mimetype": "text/x-python",
   "name": "python",
   "nbconvert_exporter": "python",
   "pygments_lexer": "ipython3",
   "version": "3.8.5"
  }
 },
 "nbformat": 4,
 "nbformat_minor": 4
}
